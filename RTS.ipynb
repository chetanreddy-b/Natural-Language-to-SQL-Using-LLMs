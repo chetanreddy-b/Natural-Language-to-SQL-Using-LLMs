{
 "cells": [
  {
   "cell_type": "markdown",
   "metadata": {
    "id": "cJcWCNBV_ACX"
   },
   "source": [
    "# LLM API - OpenRouter.AI"
   ]
  },
  {
   "cell_type": "code",
   "execution_count": null,
   "metadata": {
    "colab": {
     "base_uri": "https://localhost:8080/"
    },
    "collapsed": true,
    "id": "W-11ynexJ7DF",
    "outputId": "6c7a02b9-a6f7-45b9-99b9-0749a8ff68d2"
   },
   "outputs": [
    {
     "name": "stdout",
     "output_type": "stream",
     "text": [
      "Requirement already satisfied: openai in /usr/local/lib/python3.10/dist-packages (1.54.4)\n",
      "Requirement already satisfied: anyio<5,>=3.5.0 in /usr/local/lib/python3.10/dist-packages (from openai) (3.7.1)\n",
      "Requirement already satisfied: distro<2,>=1.7.0 in /usr/local/lib/python3.10/dist-packages (from openai) (1.9.0)\n",
      "Requirement already satisfied: httpx<1,>=0.23.0 in /usr/local/lib/python3.10/dist-packages (from openai) (0.27.2)\n",
      "Requirement already satisfied: jiter<1,>=0.4.0 in /usr/local/lib/python3.10/dist-packages (from openai) (0.7.1)\n",
      "Requirement already satisfied: pydantic<3,>=1.9.0 in /usr/local/lib/python3.10/dist-packages (from openai) (2.9.2)\n",
      "Requirement already satisfied: sniffio in /usr/local/lib/python3.10/dist-packages (from openai) (1.3.1)\n",
      "Requirement already satisfied: tqdm>4 in /usr/local/lib/python3.10/dist-packages (from openai) (4.66.6)\n",
      "Requirement already satisfied: typing-extensions<5,>=4.11 in /usr/local/lib/python3.10/dist-packages (from openai) (4.12.2)\n",
      "Requirement already satisfied: idna>=2.8 in /usr/local/lib/python3.10/dist-packages (from anyio<5,>=3.5.0->openai) (3.10)\n",
      "Requirement already satisfied: exceptiongroup in /usr/local/lib/python3.10/dist-packages (from anyio<5,>=3.5.0->openai) (1.2.2)\n",
      "Requirement already satisfied: certifi in /usr/local/lib/python3.10/dist-packages (from httpx<1,>=0.23.0->openai) (2024.8.30)\n",
      "Requirement already satisfied: httpcore==1.* in /usr/local/lib/python3.10/dist-packages (from httpx<1,>=0.23.0->openai) (1.0.7)\n",
      "Requirement already satisfied: h11<0.15,>=0.13 in /usr/local/lib/python3.10/dist-packages (from httpcore==1.*->httpx<1,>=0.23.0->openai) (0.14.0)\n",
      "Requirement already satisfied: annotated-types>=0.6.0 in /usr/local/lib/python3.10/dist-packages (from pydantic<3,>=1.9.0->openai) (0.7.0)\n",
      "Requirement already satisfied: pydantic-core==2.23.4 in /usr/local/lib/python3.10/dist-packages (from pydantic<3,>=1.9.0->openai) (2.23.4)\n"
     ]
    }
   ],
   "source": [
    "!pip install openai"
   ]
  },
  {
   "cell_type": "code",
   "execution_count": null,
   "metadata": {
    "id": "hlfoQG73251p"
   },
   "outputs": [],
   "source": [
    "# from openai import OpenAI\n",
    "import pandas as pd\n",
    "import os\n",
    "from openai import OpenAI"
   ]
  },
  {
   "cell_type": "code",
   "execution_count": null,
   "metadata": {
    "colab": {
     "base_uri": "https://localhost:8080/"
    },
    "id": "eRGK5GVHEjox",
    "outputId": "09c97ffa-eade-4c17-c5d0-4372136c67e6"
   },
   "outputs": [
    {
     "name": "stdout",
     "output_type": "stream",
     "text": [
      "Drive already mounted at /content/drive; to attempt to forcibly remount, call drive.mount(\"/content/drive\", force_remount=True).\n"
     ]
    }
   ],
   "source": [
    "from google.colab import drive\n",
    "drive.mount('/content/drive')\n",
    "\n",
    "# Creating base directories\n",
    "base_dir = '/content/drive/MyDrive/RTS_Chetan_Chathurvedhi'"
   ]
  },
  {
   "cell_type": "code",
   "execution_count": null,
   "metadata": {
    "id": "AmAjv6_i5wqq"
   },
   "outputs": [],
   "source": [
    "## Client\n",
    "\n",
    "client = OpenAI(\n",
    "  base_url=\"https://openrouter.ai/api/v1\",\n",
    "  api_key=\"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\",\n",
    ")\n",
    "\n",
    "model_table = {\n",
    "    \"phi\": \"microsoft/phi-3-medium-128k-instruct:free\",\n",
    "    \"lfm\":\"liquid/lfm-40b:free\",\n",
    "  }\n"
   ]
  },
  {
   "cell_type": "code",
   "execution_count": null,
   "metadata": {
    "id": "kKAWQjOEOIQ8"
   },
   "outputs": [],
   "source": [
    "# Response function to generate sql query\n",
    "\n",
    "counter = 0\n",
    "\n",
    "def generate_sql_query(model, natural_language_query, schema, top_entries, shot):\n",
    "  if shot == 0:\n",
    "    prompt = f\"Write an SQL query to fulfill the following natural language request:\\n\\n\" \\\n",
    "             f\"Request: {natural_language_query}\\n\"\n",
    "  elif shot == 1:\n",
    "    prompt = f\"Write an SQL query to fulfill the following natural language request:\\n\\n\" \\\n",
    "             f\"Request: {natural_language_query}\\n\" \\\n",
    "             f\"Schema of the tables: {schema}\\n\"\n",
    "  else:\n",
    "    prompt = f\"Write an SQL query to fulfill the following natural language request:\\n\\n\" \\\n",
    "             f\"Request: {natural_language_query}\\n\" \\\n",
    "             f\"Schema of the tables: {schema}\\n\" \\\n",
    "             f\"Top entries of the table:\\n{top_entries}\\n\"\n",
    "\n",
    "  completion = client.chat.completions.create(\n",
    "      model = model_table[model],\n",
    "      messages=[\n",
    "            {\"role\": \"system\", \"content\": \"You are a helpful assistant that generates SQL queries, provide only the code, no other comments\"},\n",
    "            {\"role\": \"user\", \"content\": prompt}\n",
    "      ]\n",
    "  )\n",
    "\n",
    "\n",
    "  return completion.choices[0].message.content\n"
   ]
  },
  {
   "cell_type": "markdown",
   "metadata": {
    "id": "2pLpC_YgHQn_"
   },
   "source": [
    "## Analysis between Zero-Shot, One-Shot and Few-Shot\n",
    "\n",
    "* Zero-Shot - Only the necessary query request\n",
    "* One-Shot - Query + Schema\n",
    "* Few-Shot - Query + Scheme + Top entries of the table\n",
    "\n",
    "* Used the phi-3 model on the crime dataset for the analysis of the prompting methods"
   ]
  },
  {
   "cell_type": "code",
   "execution_count": null,
   "metadata": {
    "id": "fHZR0va_MFED"
   },
   "outputs": [],
   "source": [
    "df_simple = pd.read_csv(base_dir+'/Datasets/crime_simple.csv',encoding='windows-1254')\n",
    "df_complex = pd.read_csv(base_dir+'/Datasets/crime_complex.csv',encoding='windows-1254')\n",
    "\n",
    "anal_loc = base_dir + '/Prompt_Analysis'\n",
    "model = 'phi'"
   ]
  },
  {
   "cell_type": "code",
   "execution_count": null,
   "metadata": {
    "id": "xcKfmuYUPTrb"
   },
   "outputs": [],
   "source": [
    "# Zero Shot\n",
    "\n",
    "df_simple['Zero_Shot'] = df_simple.apply(lambda row: generate_sql_query(model, row['Natural Language Query'], '', '', 0), axis=1)\n",
    "df_complex['Zero_Shot'] = df_complex.apply(lambda row: generate_sql_query(model, row['Natural Language Query'], '', '', 0), axis=1)"
   ]
  },
  {
   "cell_type": "code",
   "execution_count": null,
   "metadata": {
    "id": "JaIRqW9oJnBa"
   },
   "outputs": [],
   "source": [
    "# One Shot\n",
    "\n",
    "df_simple['One_Shot'] = df_simple.apply(lambda row: generate_sql_query(model, row['Natural Language Query'], row['Schema'], '', 1), axis=1)\n",
    "df_complex['One_Shot'] = df_complex.apply(lambda row: generate_sql_query(model, row['Natural Language Query'], row['Schema'], '', 1), axis=1)"
   ]
  },
  {
   "cell_type": "code",
   "execution_count": null,
   "metadata": {
    "id": "zGdUZhYZJmxZ"
   },
   "outputs": [],
   "source": [
    "# Few Shot\n",
    "\n",
    "df_simple['Few_Shot'] = df_simple.apply(lambda row: generate_sql_query(model, row['Natural Language Query'], row['Schema'], row['Top 5 Entries of Table'], 2), axis=1)\n",
    "df_complex['Few_Shot'] = df_complex.apply(lambda row: generate_sql_query(model, row['Natural Language Query'], row['Schema'], row['Top 5 Entries of Table'], 2), axis=1)"
   ]
  },
  {
   "cell_type": "code",
   "execution_count": null,
   "metadata": {
    "id": "QVEuXxkWJlRw"
   },
   "outputs": [],
   "source": [
    "# Saving the file\n",
    "\n",
    "df_simple.to_csv(anal_loc+'/crime_simple.csv', index=False)\n",
    "df_complex.to_csv(anal_loc+'/crime_complex.csv', index=False)"
   ]
  },
  {
   "cell_type": "markdown",
   "metadata": {
    "id": "z2eGQ8T7KKYA"
   },
   "source": [
    "## Generating SQL Queries - LFM, Phi\n",
    "\n",
    "* Now that we have Few_Shot as the clear winner, now let use find the best model for each dataset and in total as well"
   ]
  },
  {
   "cell_type": "markdown",
   "metadata": {
    "id": "hg-HujgKX-a_"
   },
   "source": [
    "### Crime Dataset"
   ]
  },
  {
   "cell_type": "code",
   "execution_count": null,
   "metadata": {
    "id": "QQfr8amXYMOf"
   },
   "outputs": [],
   "source": [
    "df_simple = pd.read_csv(base_dir+'/Datasets/crime_simple.csv',encoding='windows-1254')\n",
    "df_complex = pd.read_csv(base_dir+'/Datasets/crime_complex.csv',encoding='windows-1254')\n",
    "\n",
    "res_loc = base_dir + '/Results/Crime'\n",
    "\n",
    "crime_models = []"
   ]
  },
  {
   "cell_type": "code",
   "execution_count": null,
   "metadata": {
    "colab": {
     "base_uri": "https://localhost:8080/"
    },
    "id": "KgC2LlXoYUAc",
    "outputId": "a1674ef1-6e87-4649-d613-e725e73f037c"
   },
   "outputs": [
    {
     "name": "stdout",
     "output_type": "stream",
     "text": [
      "phi Evaluated\n",
      "lfm Evaluated\n"
     ]
    }
   ],
   "source": [
    "for model in model_table:\n",
    "  print(model, end = ' ')\n",
    "  if(model in crime_models):\n",
    "    print('Done')\n",
    "    continue\n",
    "  df_simple[model] = df_simple.apply  lambda row: generate_sql_query(model, row['Natural Language Query'], row['Schema'], row['Top 5 Entries of Table'], 2), axis=1)\n",
    "  df_complex[model] = df_complex.apply(lambda row: generate_sql_query(model, row['Natural Language Query'], row['Schema'], row['Top 5 Entries of Table'], 2), axis=1)\n",
    "  df_simple.to_csv(res_loc+'/crime_simple.csv', index=False)\n",
    "  df_complex.to_csv(res_loc+'/crime_complex.csv', index=False)\n",
    "  crime_models.append(model)\n",
    "  print('Evaluated')"
   ]
  },
  {
   "cell_type": "markdown",
   "metadata": {
    "id": "DhvWgDZu8Ox9"
   },
   "source": [
    "### Shooting Dataset"
   ]
  },
  {
   "cell_type": "code",
   "execution_count": null,
   "metadata": {
    "id": "-eo9GH4x8Op1"
   },
   "outputs": [],
   "source": [
    "df_simple = pd.read_csv(base_dir+'/Datasets/shooting_simple.csv',encoding='windows-1254')\n",
    "df_complex = pd.read_csv(base_dir+'/Datasets/shooting_complex.csv',encoding='windows-1254')\n",
    "\n",
    "res_loc = base_dir + '/Results/Shooting'\n",
    "\n",
    "shooting_models = []"
   ]
  },
  {
   "cell_type": "code",
   "execution_count": null,
   "metadata": {
    "colab": {
     "base_uri": "https://localhost:8080/"
    },
    "id": "-Et6eDl78Okm",
    "outputId": "3d532753-aef5-4f1a-e18b-600f9c72ffa7"
   },
   "outputs": [
    {
     "name": "stdout",
     "output_type": "stream",
     "text": [
      "phi Evaluated\n",
      "lfm Evaluated\n"
     ]
    }
   ],
   "source": [
    "for model in model_table:\n",
    "  print(model, end = ' ')\n",
    "  if(model in shooting_models):\n",
    "    print('Done')\n",
    "    continue\n",
    "  df_simple[model] = df_simple.apply(lambda row: generate_sql_query(model, row['Natural Language Query'], row['Schema'], row['Top 5 Entries of Table'], 2), axis=1)\n",
    "  df_complex[model] = df_complex.apply(lambda row: generate_sql_query(model, row['Natural Language Query'], row['Schema'], row['Top 5 Entries of Table'], 2), axis=1)\n",
    "  df_simple.to_csv(res_loc+'/shooting_simple.csv', index=False)\n",
    "  df_complex.to_csv(res_loc+'/shooting_complex.csv', index=False)\n",
    "  shooting_models.append(model)\n",
    "  print('Evaluated')"
   ]
  },
  {
   "cell_type": "markdown",
   "metadata": {
    "id": "qXWfOCuY8OPY"
   },
   "source": [
    "### Housing Dataset"
   ]
  },
  {
   "cell_type": "code",
   "execution_count": null,
   "metadata": {
    "id": "HifhWxTn8OFk"
   },
   "outputs": [],
   "source": [
    "df_simple = pd.read_csv(base_dir+'/Datasets/housing_simple.csv',encoding='windows-1254')\n",
    "df_complex = pd.read_csv(base_dir+'/Datasets/housing_complex.csv',encoding='windows-1254')\n",
    "\n",
    "res_loc = base_dir + '/Results/Housing'\n",
    "\n",
    "housing_models = []"
   ]
  },
  {
   "cell_type": "code",
   "execution_count": null,
   "metadata": {
    "colab": {
     "base_uri": "https://localhost:8080/"
    },
    "id": "bFzaqeea9OHH",
    "outputId": "a3335bc6-a28e-4cad-b8e9-0a6f2b208403"
   },
   "outputs": [
    {
     "name": "stdout",
     "output_type": "stream",
     "text": [
      "phi Evaluated\n",
      "lfm Evaluated\n"
     ]
    }
   ],
   "source": [
    "for model in model_table:\n",
    "  print(model, end = ' ')\n",
    "  if(model in housing_models):\n",
    "    print('Done')\n",
    "    continue\n",
    "  df_simple[model] = df_simple.apply(lambda row: generate_sql_query(model, row['Natural Language Query'], row['Schema'], row['Top 5 Entries of Table'], 2), axis=1)\n",
    "  df_complex[model] = df_complex.apply(lambda row: generate_sql_query(model, row['Natural Language Query'], row['Schema'], row['Top 5 Entries of Table'], 2), axis=1)\n",
    "  df_simple.to_csv(res_loc+'/housing_simple.csv', index=False)\n",
    "  df_complex.to_csv(res_loc+'/housing_complex.csv', index=False)\n",
    "  housing_models.append(model)\n",
    "  print('Evaluated')"
   ]
  },
  {
   "cell_type": "markdown",
   "metadata": {
    "id": "XuIfyRm1X7F7"
   },
   "source": [
    "# LLM API - Groq.AI\n",
    "\n"
   ]
  },
  {
   "cell_type": "code",
   "execution_count": null,
   "metadata": {
    "colab": {
     "base_uri": "https://localhost:8080/"
    },
    "id": "UgQNCQxj97km",
    "outputId": "95f0be77-e33a-4eb8-b18d-c33ce906776b"
   },
   "outputs": [
    {
     "name": "stdout",
     "output_type": "stream",
     "text": [
      "Collecting openai==0.28\n",
      "  Downloading openai-0.28.0-py3-none-any.whl.metadata (13 kB)\n",
      "Requirement already satisfied: requests>=2.20 in /usr/local/lib/python3.10/dist-packages (from openai==0.28) (2.32.3)\n",
      "Requirement already satisfied: tqdm in /usr/local/lib/python3.10/dist-packages (from openai==0.28) (4.66.6)\n",
      "Requirement already satisfied: aiohttp in /usr/local/lib/python3.10/dist-packages (from openai==0.28) (3.11.2)\n",
      "Requirement already satisfied: charset-normalizer<4,>=2 in /usr/local/lib/python3.10/dist-packages (from requests>=2.20->openai==0.28) (3.4.0)\n",
      "Requirement already satisfied: idna<4,>=2.5 in /usr/local/lib/python3.10/dist-packages (from requests>=2.20->openai==0.28) (3.10)\n",
      "Requirement already satisfied: urllib3<3,>=1.21.1 in /usr/local/lib/python3.10/dist-packages (from requests>=2.20->openai==0.28) (2.2.3)\n",
      "Requirement already satisfied: certifi>=2017.4.17 in /usr/local/lib/python3.10/dist-packages (from requests>=2.20->openai==0.28) (2024.8.30)\n",
      "Requirement already satisfied: aiohappyeyeballs>=2.3.0 in /usr/local/lib/python3.10/dist-packages (from aiohttp->openai==0.28) (2.4.3)\n",
      "Requirement already satisfied: aiosignal>=1.1.2 in /usr/local/lib/python3.10/dist-packages (from aiohttp->openai==0.28) (1.3.1)\n",
      "Requirement already satisfied: attrs>=17.3.0 in /usr/local/lib/python3.10/dist-packages (from aiohttp->openai==0.28) (24.2.0)\n",
      "Requirement already satisfied: frozenlist>=1.1.1 in /usr/local/lib/python3.10/dist-packages (from aiohttp->openai==0.28) (1.5.0)\n",
      "Requirement already satisfied: multidict<7.0,>=4.5 in /usr/local/lib/python3.10/dist-packages (from aiohttp->openai==0.28) (6.1.0)\n",
      "Requirement already satisfied: propcache>=0.2.0 in /usr/local/lib/python3.10/dist-packages (from aiohttp->openai==0.28) (0.2.0)\n",
      "Requirement already satisfied: yarl<2.0,>=1.17.0 in /usr/local/lib/python3.10/dist-packages (from aiohttp->openai==0.28) (1.17.2)\n",
      "Requirement already satisfied: async-timeout<6.0,>=4.0 in /usr/local/lib/python3.10/dist-packages (from aiohttp->openai==0.28) (4.0.3)\n",
      "Requirement already satisfied: typing-extensions>=4.1.0 in /usr/local/lib/python3.10/dist-packages (from multidict<7.0,>=4.5->aiohttp->openai==0.28) (4.12.2)\n",
      "Downloading openai-0.28.0-py3-none-any.whl (76 kB)\n",
      "\u001b[2K   \u001b[90m━━━━━━━━━━━━━━━━━━━━━━━━━━━━━━━━━━━━━━━━\u001b[0m \u001b[32m76.5/76.5 kB\u001b[0m \u001b[31m5.2 MB/s\u001b[0m eta \u001b[36m0:00:00\u001b[0m\n",
      "\u001b[?25hInstalling collected packages: openai\n",
      "  Attempting uninstall: openai\n",
      "    Found existing installation: openai 1.54.4\n",
      "    Uninstalling openai-1.54.4:\n",
      "      Successfully uninstalled openai-1.54.4\n",
      "Successfully installed openai-0.28.0\n",
      "Collecting groq\n",
      "  Downloading groq-0.12.0-py3-none-any.whl.metadata (13 kB)\n",
      "Requirement already satisfied: anyio<5,>=3.5.0 in /usr/local/lib/python3.10/dist-packages (from groq) (3.7.1)\n",
      "Requirement already satisfied: distro<2,>=1.7.0 in /usr/local/lib/python3.10/dist-packages (from groq) (1.9.0)\n",
      "Requirement already satisfied: httpx<1,>=0.23.0 in /usr/local/lib/python3.10/dist-packages (from groq) (0.27.2)\n",
      "Requirement already satisfied: pydantic<3,>=1.9.0 in /usr/local/lib/python3.10/dist-packages (from groq) (2.9.2)\n",
      "Requirement already satisfied: sniffio in /usr/local/lib/python3.10/dist-packages (from groq) (1.3.1)\n",
      "Requirement already satisfied: typing-extensions<5,>=4.7 in /usr/local/lib/python3.10/dist-packages (from groq) (4.12.2)\n",
      "Requirement already satisfied: idna>=2.8 in /usr/local/lib/python3.10/dist-packages (from anyio<5,>=3.5.0->groq) (3.10)\n",
      "Requirement already satisfied: exceptiongroup in /usr/local/lib/python3.10/dist-packages (from anyio<5,>=3.5.0->groq) (1.2.2)\n",
      "Requirement already satisfied: certifi in /usr/local/lib/python3.10/dist-packages (from httpx<1,>=0.23.0->groq) (2024.8.30)\n",
      "Requirement already satisfied: httpcore==1.* in /usr/local/lib/python3.10/dist-packages (from httpx<1,>=0.23.0->groq) (1.0.7)\n",
      "Requirement already satisfied: h11<0.15,>=0.13 in /usr/local/lib/python3.10/dist-packages (from httpcore==1.*->httpx<1,>=0.23.0->groq) (0.14.0)\n",
      "Requirement already satisfied: annotated-types>=0.6.0 in /usr/local/lib/python3.10/dist-packages (from pydantic<3,>=1.9.0->groq) (0.7.0)\n",
      "Requirement already satisfied: pydantic-core==2.23.4 in /usr/local/lib/python3.10/dist-packages (from pydantic<3,>=1.9.0->groq) (2.23.4)\n",
      "Downloading groq-0.12.0-py3-none-any.whl (108 kB)\n",
      "\u001b[2K   \u001b[90m━━━━━━━━━━━━━━━━━━━━━━━━━━━━━━━━━━━━━━━━\u001b[0m \u001b[32m108.9/108.9 kB\u001b[0m \u001b[31m3.7 MB/s\u001b[0m eta \u001b[36m0:00:00\u001b[0m\n",
      "\u001b[?25hInstalling collected packages: groq\n",
      "Successfully installed groq-0.12.0\n"
     ]
    }
   ],
   "source": [
    "!pip install openai==0.28\n",
    "!pip install groq"
   ]
  },
  {
   "cell_type": "code",
   "execution_count": null,
   "metadata": {
    "id": "DfKQxvsQ_zJP"
   },
   "outputs": [],
   "source": [
    "import pandas as pd\n",
    "import openai\n",
    "import os\n",
    "from groq import Groq\n",
    "import chardet\n",
    "import shutil"
   ]
  },
  {
   "cell_type": "code",
   "execution_count": null,
   "metadata": {
    "colab": {
     "base_uri": "https://localhost:8080/"
    },
    "id": "kK4YBP_G1pwj",
    "outputId": "1784fb53-bc4c-4320-aa5e-cbffb363704e"
   },
   "outputs": [
    {
     "name": "stdout",
     "output_type": "stream",
     "text": [
      "Drive already mounted at /content/drive; to attempt to forcibly remount, call drive.mount(\"/content/drive\", force_remount=True).\n"
     ]
    }
   ],
   "source": [
    "from google.colab import drive\n",
    "drive.mount('/content/drive')\n",
    "\n",
    "# Creating base directories\n",
    "base_dir = '/content/drive/MyDrive/RTS_Chetan_Chathurvedhi'"
   ]
  },
  {
   "cell_type": "code",
   "execution_count": null,
   "metadata": {
    "colab": {
     "base_uri": "https://localhost:8080/",
     "height": 211
    },
    "id": "QQ6wWqLK-Mpr",
    "outputId": "3dd9dec3-cb52-4183-ec65-6d185d95f43b"
   },
   "outputs": [
    {
     "ename": "NameError",
     "evalue": "name 'Groq' is not defined",
     "output_type": "error",
     "traceback": [
      "\u001b[0;31m---------------------------------------------------------------------------\u001b[0m",
      "\u001b[0;31mNameError\u001b[0m                                 Traceback (most recent call last)",
      "\u001b[0;32m<ipython-input-1-834516cc3b24>\u001b[0m in \u001b[0;36m<cell line: 1>\u001b[0;34m()\u001b[0m\n\u001b[0;32m----> 1\u001b[0;31m client = Groq(\n\u001b[0m\u001b[1;32m      2\u001b[0m     \u001b[0;31m# api_key=userdata.get('GROQ_API_KEY'),\u001b[0m\u001b[0;34m\u001b[0m\u001b[0;34m\u001b[0m\u001b[0m\n\u001b[1;32m      3\u001b[0m     \u001b[0mapi_key\u001b[0m\u001b[0;34m=\u001b[0m\u001b[0;34m\"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\"\u001b[0m\u001b[0;34m,\u001b[0m\u001b[0;34m\u001b[0m\u001b[0;34m\u001b[0m\u001b[0m\n\u001b[1;32m      4\u001b[0m )\n\u001b[1;32m      5\u001b[0m \u001b[0;34m\u001b[0m\u001b[0m\n",
      "\u001b[0;31mNameError\u001b[0m: name 'Groq' is not defined"
     ]
    }
   ],
   "source": [
    "client = Groq(\n",
    "    api_key=\"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\",\n",
    ")\n",
    "\n",
    "groq_table = {\n",
    "    \"gemma_1\":\"gemma-7b-it\",\n",
    "    \"gemma_2\":\"gemma2-9b-it\",\n",
    "    \"llama\":\"llama3-groq-8b-8192-tool-use-preview\",\n",
    "    \"mistral\":\"mixtral-8x7b-32768\"\n",
    "\n",
    "}"
   ]
  },
  {
   "cell_type": "code",
   "execution_count": null,
   "metadata": {
    "id": "5MOWsp0N9x2i"
   },
   "outputs": [],
   "source": [
    "# Response function to generate sql query - Groq\n",
    "\n",
    "def generate_sql_query(model, natural_language_query, schema, top_entries, shot):\n",
    "  if shot == 0:\n",
    "    prompt = f\"Write an SQL query to fulfill the following natural language request:\\n\\n\" \\\n",
    "             f\"Request: {natural_language_query}\\n\"\n",
    "  elif shot == 1:\n",
    "    prompt = f\"Write an SQL query to fulfill the following natural language request:\\n\\n\" \\\n",
    "             f\"Request: {natural_language_query}\\n\" \\\n",
    "             f\"Schema of the tables: {schema}\\n\"\n",
    "  else:\n",
    "    prompt = f\"Write an SQL query to fulfill the following natural language request:\\n\\n\" \\\n",
    "             f\"Request: {natural_language_query}\\n\" \\\n",
    "             f\"Schema of the tables: {schema}\\n\" \\\n",
    "             f\"Top entries of the table:\\n{top_entries}\\n\"\n",
    "\n",
    "  response = client.chat.completions.create(\n",
    "        messages=[\n",
    "            {\"role\": \"system\", \"content\": \"You are a helpful assistant that generates SQL queries.\"},\n",
    "            {\"role\": \"user\", \"content\": prompt}\n",
    "        ],\n",
    "        model=groq_table[model]\n",
    "  )\n",
    "\n",
    "  generated_sql = response.choices[0].message.content.strip()\n",
    "\n",
    "  return generated_sql\n"
   ]
  },
  {
   "cell_type": "markdown",
   "metadata": {
    "id": "VEDtdaEPDMfk"
   },
   "source": [
    "## Generating SQL Queries"
   ]
  },
  {
   "cell_type": "markdown",
   "metadata": {
    "id": "Dm5Khn9wEf5n"
   },
   "source": [
    "### Crime Dataset"
   ]
  },
  {
   "cell_type": "code",
   "execution_count": null,
   "metadata": {
    "id": "Wqu4WusQDK8J"
   },
   "outputs": [],
   "source": [
    "res_loc = base_dir + '/Results/Crime'\n",
    "\n",
    "df_simple = pd.read_csv(res_loc+'/crime_simple.csv',encoding='utf8')\n",
    "df_complex = pd.read_csv(res_loc+'/crime_complex.csv',encoding='windows-1254')\n",
    "\n",
    "crime_models = []"
   ]
  },
  {
   "cell_type": "code",
   "execution_count": null,
   "metadata": {
    "colab": {
     "base_uri": "https://localhost:8080/"
    },
    "id": "0-yEw3yZDK8K",
    "outputId": "7d75abe6-1885-45ab-eb62-0ee35a40a53e"
   },
   "outputs": [
    {
     "name": "stdout",
     "output_type": "stream",
     "text": [
      "gemma_1 Done\n",
      "gemma_2 Done\n",
      "llama Done\n",
      "mistral Evaluated\n"
     ]
    }
   ],
   "source": [
    "for model in groq_table:\n",
    "  print(model, end = ' ')\n",
    "  if(model in crime_models):\n",
    "    print('Done')\n",
    "    continue\n",
    "  df_simple[model] = df_simple.apply(lambda row: generate_sql_query(model, row['Natural Language Query'], row['Schema'], row['Top 5 Entries of Table'], 2), axis=1)\n",
    "  df_complex[model] = df_complex.apply(lambda row: generate_sql_query(model, row['Natural Language Query'], row['Schema'], row['Top 5 Entries of Table'], 2), axis=1)\n",
    "  df_simple.to_csv(res_loc+'/crime_simple.csv', index=False)\n",
    "  df_complex.to_csv(res_loc+'/crime_complex.csv', index=False)\n",
    "  crime_models.append(model)\n",
    "  print('Evaluated')"
   ]
  },
  {
   "cell_type": "markdown",
   "metadata": {
    "id": "6D__nzR-EjK7"
   },
   "source": [
    "### Shooting Dataset"
   ]
  },
  {
   "cell_type": "code",
   "execution_count": null,
   "metadata": {
    "id": "wSQ3v3ufEbCh"
   },
   "outputs": [],
   "source": [
    "res_loc = base_dir + '/Results/Shooting'\n",
    "\n",
    "df_simple = pd.read_csv(res_loc+'/shooting_simple.csv',encoding='windows-1254')\n",
    "df_complex = pd.read_csv(res_loc+'/shooting_complex.csv',encoding='windows-1254')\n",
    "\n",
    "shooting_models = []"
   ]
  },
  {
   "cell_type": "code",
   "execution_count": null,
   "metadata": {
    "colab": {
     "base_uri": "https://localhost:8080/"
    },
    "id": "hp1FI3_oDK8L",
    "outputId": "5d6b4c99-714e-47b6-843a-f51cb021f66e"
   },
   "outputs": [
    {
     "name": "stdout",
     "output_type": "stream",
     "text": [
      "gemma_1 Done\n",
      "gemma_2 Done\n",
      "llama Done\n",
      "mistral Evaluated\n"
     ]
    }
   ],
   "source": [
    "for model in groq_table:\n",
    "  print(model, end = ' ')\n",
    "  if(model in shooting_models):\n",
    "    print('Done')\n",
    "    continue\n",
    "  df_simple[model] = df_simple.apply(lambda row: generate_sql_query(model, row['Natural Language Query'], row['Schema'], row['Top 5 Entries of Table'], 2), axis=1)\n",
    "  df_complex[model] = df_complex.apply(lambda row: generate_sql_query(model, row['Natural Language Query'], row['Schema'], row['Top 5 Entries of Table'], 2), axis=1)\n",
    "  df_simple.to_csv(res_loc+'/shooting_simple.csv', index=False)\n",
    "  df_complex.to_csv(res_loc+'/shooting_complex.csv', index=False)\n",
    "  shooting_models.append(model)\n",
    "  print('Evaluated')"
   ]
  },
  {
   "cell_type": "markdown",
   "metadata": {
    "id": "kB49G5LaEmIN"
   },
   "source": [
    "### Housing Dataset"
   ]
  },
  {
   "cell_type": "code",
   "execution_count": null,
   "metadata": {
    "id": "ILp6NMBCEchj"
   },
   "outputs": [],
   "source": [
    "res_loc = base_dir + '/Results/Housing'\n",
    "\n",
    "df_simple = pd.read_csv(res_loc+'/housing_simple.csv',encoding='windows-1254')\n",
    "df_complex = pd.read_csv(res_loc+'/housing_complex.csv',encoding='windows-1254')\n",
    "\n",
    "housing_models = []"
   ]
  },
  {
   "cell_type": "code",
   "execution_count": null,
   "metadata": {
    "colab": {
     "base_uri": "https://localhost:8080/"
    },
    "id": "Y0R61ppDDK8M",
    "outputId": "6f836beb-62ec-41a2-a633-6933dd28879d"
   },
   "outputs": [
    {
     "name": "stdout",
     "output_type": "stream",
     "text": [
      "gemma_1 Done\n",
      "gemma_2 Done\n",
      "llama Done\n",
      "mistral Evaluated\n"
     ]
    }
   ],
   "source": [
    "for model in groq_table:\n",
    "  print(model, end = ' ')\n",
    "  if(model in housing_models):\n",
    "    print('Done')\n",
    "    continue\n",
    "  df_simple[model] = df_simple.apply(lambda row: generate_sql_query(model, row['Natural Language Query'], row['Schema'], row['Top 5 Entries of Table'], 2), axis=1)\n",
    "  df_complex[model] = df_complex.apply(lambda row: generate_sql_query(model, row['Natural Language Query'], row['Schema'], row['Top 5 Entries of Table'], 2), axis=1)\n",
    "  df_simple.to_csv(res_loc+'/housing_simple.csv', index=False)\n",
    "  df_complex.to_csv(res_loc+'/housing_complex.csv', index=False)\n",
    "  housing_models.append(model)\n",
    "  print('Evaluated')"
   ]
  },
  {
   "cell_type": "markdown",
   "metadata": {
    "id": "iv5xCAppZyLN"
   },
   "source": [
    "### Setting up a single folder of all SQL results"
   ]
  },
  {
   "cell_type": "code",
   "execution_count": null,
   "metadata": {
    "colab": {
     "base_uri": "https://localhost:8080/"
    },
    "id": "nwtWY7WzZ25M",
    "outputId": "f8d8be93-73ad-4d84-ca3f-fdbba29da310"
   },
   "outputs": [
    {
     "name": "stdout",
     "output_type": "stream",
     "text": [
      "Copied: /content/drive/MyDrive/RTS_Chetan_Chathurvedhi/Results/Crime/crime_simple.csv -> /content/drive/MyDrive/RTS_Chetan_Chathurvedhi/SQL/Crime/crime_simple.csv\n",
      "Copied: /content/drive/MyDrive/RTS_Chetan_Chathurvedhi/Results/Crime/crime_complex.csv -> /content/drive/MyDrive/RTS_Chetan_Chathurvedhi/SQL/Crime/crime_complex.csv\n",
      "Copied: /content/drive/MyDrive/RTS_Chetan_Chathurvedhi/Results/Housing/housing_simple.csv -> /content/drive/MyDrive/RTS_Chetan_Chathurvedhi/SQL/Housing/housing_simple.csv\n",
      "Copied: /content/drive/MyDrive/RTS_Chetan_Chathurvedhi/Results/Housing/housing_complex.csv -> /content/drive/MyDrive/RTS_Chetan_Chathurvedhi/SQL/Housing/housing_complex.csv\n",
      "Copied: /content/drive/MyDrive/RTS_Chetan_Chathurvedhi/Results/Shooting/shooting_simple.csv -> /content/drive/MyDrive/RTS_Chetan_Chathurvedhi/SQL/Shooting/shooting_simple.csv\n",
      "Copied: /content/drive/MyDrive/RTS_Chetan_Chathurvedhi/Results/Shooting/shooting_complex.csv -> /content/drive/MyDrive/RTS_Chetan_Chathurvedhi/SQL/Shooting/shooting_complex.csv\n",
      "Copied: /content/drive/MyDrive/RTS_Chetan_Chathurvedhi/Results/Shooting/backup.csv -> /content/drive/MyDrive/RTS_Chetan_Chathurvedhi/SQL/Shooting/backup.csv\n"
     ]
    }
   ],
   "source": [
    "res_loc = base_dir + '/Results'\n",
    "sql_loc = base_dir + '/SQL'\n",
    "\n",
    "# Copy every .csv file in the res_loc dir to SQL recursively\n",
    "\n",
    "def copy_csv_files(src_dir, dest_dir):\n",
    "    for root, _, files in os.walk(src_dir):\n",
    "        for file in files:\n",
    "            if file.endswith('.csv'):\n",
    "                src_file = os.path.join(root, file)  # Source file path\n",
    "                relative_path = os.path.relpath(root, src_dir)  # Get relative path\n",
    "                dest_folder = os.path.join(dest_dir, relative_path)  # Destination folder\n",
    "                os.makedirs(dest_folder, exist_ok=True)  # Create destination folder if it doesn't exist\n",
    "                dest_file = os.path.join(dest_folder, file)  # Destination file path\n",
    "\n",
    "                shutil.copy2(src_file, dest_file)  # Copy file, preserving metadata\n",
    "                print(f\"Copied: {src_file} -> {dest_file}\")\n",
    "\n",
    "copy_csv_files(res_loc, sql_loc)\n"
   ]
  },
  {
   "cell_type": "code",
   "execution_count": null,
   "metadata": {
    "id": "AiUAKqNo_2oN"
   },
   "outputs": [],
   "source": [
    "sql_dir = base_dir + '/SQL'\n",
    "\n",
    "sql_path = {\n",
    "    \"Crime_Simple\":'/crime_simple.csv',\n",
    "    \"Crime_Complex\":'/crime_complex.csv',\n",
    "    \"Shooting_Simple\":'/shooting_simple.csv',\n",
    "    \"Shooting_Complex\":'/shooting_complex.csv',\n",
    "    \"Housing_Simple\":'/housing_simple.csv',\n",
    "    \"Housing_Complex\":'/housing_complex.csv',\n",
    "    \"Complete\":'/complete.csv',\n",
    "    \"Simple\":'/simple.csv',\n",
    "    \"Complex\":'/complex.csv'\n",
    "}\n",
    "\n",
    "df_crime_simple = pd.read_csv(sql_dir+sql_path[\"Crime_Simple\"])\n",
    "df_crime_complex = pd.read_csv(sql_dir+sql_path[\"Crime_Complex\"])\n",
    "df_shooting_simple = pd.read_csv(sql_dir+sql_path[\"Shooting_Simple\"])\n",
    "df_shooting_complex = pd.read_csv(sql_dir+sql_path[\"Shooting_Complex\"])\n",
    "df_housing_simple = pd.read_csv(sql_dir+sql_path[\"Housing_Simple\"])\n",
    "df_housing_complex = pd.read_csv(sql_dir+sql_path[\"Housing_Complex\"])\n",
    "\n",
    "df_simple = pd.concat([df_crime_simple, df_shooting_simple, df_housing_simple], ignore_index=True)\n",
    "df_complex = pd.concat([df_crime_complex, df_shooting_complex, df_housing_complex], ignore_index=True)\n",
    "\n",
    "df_complete = pd.concat([df_simple, df_complex], ignore_index=True)\n",
    "\n",
    "# Save the dataframes\n",
    "\n",
    "df_simple.to_csv(sql_dir+'/simple.csv', index=False)\n",
    "df_complex.to_csv(sql_dir+'/complex.csv', index=False)\n",
    "df_complete.to_csv(sql_dir+'/complete.csv', index=False)"
   ]
  },
  {
   "cell_type": "markdown",
   "metadata": {
    "id": "-RLdWLWJirnp"
   },
   "source": [
    "# Latency Analysis of gemma_1 vs gemma_2"
   ]
  },
  {
   "cell_type": "code",
   "execution_count": null,
   "metadata": {
    "colab": {
     "base_uri": "https://localhost:8080/"
    },
    "id": "hf5Qn45Niwzb",
    "outputId": "b47fb5d4-2f18-406e-8410-130d544cab78"
   },
   "outputs": [
    {
     "name": "stdout",
     "output_type": "stream",
     "text": [
      "Time taken for Gemma 1: 296.7061 seconds\n",
      "Time taken for Gemma 2: 430.8373 seconds\n",
      "Time taken for LFM: 683.7302 seconds\n"
     ]
    }
   ],
   "source": [
    "import time\n",
    "\n",
    "start_time = time.perf_counter()\n",
    "\n",
    "df_temp = df_complete.copy()\n",
    "\n",
    "df_temp[\"temp\"] = df_temp.apply(lambda row: generate_sql_query(\"gemma_1\", row['Natural Language Query'], row['Schema'], row['Top 5 Entries of Table'], 2), axis=1)\n",
    "\n",
    "end_time = time.perf_counter()\n",
    "\n",
    "print(f\"Time taken for Gemma 1: {end_time - start_time:0.4f} seconds\")\n",
    "\n",
    "start_time = time.perf_counter()\n",
    "\n",
    "df_temp['temp'] = df_temp.apply(lambda row: generate_sql_query(\"gemma_2\", row['Natural Language Query'], row['Schema'], row['Top 5 Entries of Table'], 2), axis=1)\n",
    "\n",
    "end_time = time.perf_counter()\n",
    "\n",
    "print(f\"Time taken for Gemma 2: {end_time - start_time:0.4f} seconds\")\n",
    "\n",
    "start_time = time.perf_counter()\n",
    "\n",
    "df_temp['temp'] = df_temp.apply(lambda row: generate_sql_query(\"lfm\", row['Natural Language Query'], row['Schema'], row['Top 5 Entries of Table'], 2), axis=1)\n",
    "\n",
    "end_time = time.perf_counter()\n",
    "\n",
    "print(f\"Time taken for LFM: {end_time - start_time:0.4f} seconds\")\n"
   ]
  },
  {
   "cell_type": "markdown",
   "metadata": {
    "id": "ihguxicEXxc2"
   },
   "source": [
    "Time taken for Gemma 1: 296.7061 seconds\n",
    "\n",
    "Time taken for Gemma 2: 430.8373 seconds\n",
    "\n",
    "Time taken for LFM: 683.7302 seconds"
   ]
  },
  {
   "cell_type": "markdown",
   "metadata": {
    "id": "cgCuXxCefbAh"
   },
   "source": [
    "# Time vs performance analysis for Gemma 1 and LFM"
   ]
  },
  {
   "cell_type": "code",
   "execution_count": null,
   "metadata": {
    "id": "k0j-I9PTfhnv"
   },
   "outputs": [],
   "source": [
    "# Gemma\n",
    "\n",
    "sql_loc = base_dir + '/SQL'\n",
    "\n",
    "df_simple = pd.read_csv(sql_loc+'/simple.csv',encoding='utf-8')\n",
    "df_complex = pd.read_csv(sql_loc+'/complex.csv',encoding='windows-1254')\n",
    "\n",
    "df_simple['complexity'] = -1\n",
    "df_complex['complexity'] = 1\n",
    "\n",
    "df_complete = pd.concat([df_simple, df_complex], ignore_index=True)"
   ]
  },
  {
   "cell_type": "code",
   "execution_count": null,
   "metadata": {
    "collapsed": true,
    "id": "18X9SchrgXmS"
   },
   "outputs": [],
   "source": [
    "import numpy as np\n",
    "import time\n",
    "from rouge_score import rouge_scorer\n",
    "\n",
    "df_complete['Gemma_Latency'] = np.nan\n",
    "df_complete['Gemma_Rouge'] = np.nan\n",
    "df_complete['Gemma_Levenshtein'] = np.nan\n",
    "df_complete['gemma_lat'] = np.nan\n",
    "\n",
    "# Levenshtein similarity using difflib\n",
    "def levenshtein_similarity(a, b):\n",
    "    return difflib.SequenceMatcher(None, str(a), str(b)).ratio()\n",
    "\n",
    "rouge_scorer_tool = rouge_scorer.RougeScorer(['rouge1'], use_stemmer=True)\n",
    "\n",
    "for index, row in df_complete.iterrows():\n",
    "  start_time = time.perf_counter()\n",
    "  df_complete.at[index, 'gemma_lat'] = generate_sql_query(\"gemma_1\", row['Natural Language Query'], row['Schema'], row['Top 5 Entries of Table'], 2)\n",
    "  end_time = time.perf_counter()\n",
    "  df_complete.at[index, 'Gemma_Latency'] = end_time - start_time\n",
    "  df_complete.at[index, 'Gemma_Levenshtein'] = levenshtein_similarity(row['SQL Query'], df_complete.at[index, 'gemma_lat'])\n",
    "  df_complete.at[index, 'Gemma_Rouge'] = rouge_scorer_tool.score(row['SQL Query'], df_complete.at[index, 'gemma_lat'])['rouge1'].fmeasure\n",
    "\n",
    "df_complete.to_csv(sql_loc+'/latency_comp.csv', index=False)\n"
   ]
  },
  {
   "cell_type": "code",
   "execution_count": null,
   "metadata": {
    "id": "104rTls-Vmyp"
   },
   "outputs": [],
   "source": [
    "sql_loc = base_dir + '/SQL'\n",
    "\n",
    "df_complete = pd.read_csv(sql_loc+'/latency_comp.csv')"
   ]
  },
  {
   "cell_type": "code",
   "execution_count": null,
   "metadata": {
    "colab": {
     "base_uri": "https://localhost:8080/",
     "height": 356
    },
    "collapsed": true,
    "id": "uSc86G2kVxZq",
    "outputId": "a0ad0247-2a34-46ab-9389-2c82c8a43ed6"
   },
   "outputs": [
    {
     "ename": "RateLimitError",
     "evalue": "Error code: 429 - {'error': {'message': 'Rate limit exceeded: free-models-per-min', 'code': 429}}",
     "output_type": "error",
     "traceback": [
      "\u001b[0;31m---------------------------------------------------------------------------\u001b[0m",
      "\u001b[0;31mRateLimitError\u001b[0m                            Traceback (most recent call last)",
      "\u001b[0;32m<ipython-input-13-d41780d21831>\u001b[0m in \u001b[0;36m<cell line: 16>\u001b[0;34m()\u001b[0m\n\u001b[1;32m     16\u001b[0m \u001b[0;32mfor\u001b[0m \u001b[0mindex\u001b[0m\u001b[0;34m,\u001b[0m \u001b[0mrow\u001b[0m \u001b[0;32min\u001b[0m \u001b[0mdf_complete\u001b[0m\u001b[0;34m.\u001b[0m\u001b[0miterrows\u001b[0m\u001b[0;34m(\u001b[0m\u001b[0;34m)\u001b[0m\u001b[0;34m:\u001b[0m\u001b[0;34m\u001b[0m\u001b[0;34m\u001b[0m\u001b[0m\n\u001b[1;32m     17\u001b[0m   \u001b[0mstart_time\u001b[0m \u001b[0;34m=\u001b[0m \u001b[0mtime\u001b[0m\u001b[0;34m.\u001b[0m\u001b[0mperf_counter\u001b[0m\u001b[0;34m(\u001b[0m\u001b[0;34m)\u001b[0m\u001b[0;34m\u001b[0m\u001b[0;34m\u001b[0m\u001b[0m\n\u001b[0;32m---> 18\u001b[0;31m   \u001b[0mdf_complete\u001b[0m\u001b[0;34m.\u001b[0m\u001b[0mat\u001b[0m\u001b[0;34m[\u001b[0m\u001b[0mindex\u001b[0m\u001b[0;34m,\u001b[0m \u001b[0;34m'lfm_lat'\u001b[0m\u001b[0;34m]\u001b[0m \u001b[0;34m=\u001b[0m \u001b[0mgenerate_sql_query\u001b[0m\u001b[0;34m(\u001b[0m\u001b[0;34m\"lfm\"\u001b[0m\u001b[0;34m,\u001b[0m \u001b[0mrow\u001b[0m\u001b[0;34m[\u001b[0m\u001b[0;34m'Natural Language Query'\u001b[0m\u001b[0;34m]\u001b[0m\u001b[0;34m,\u001b[0m \u001b[0mrow\u001b[0m\u001b[0;34m[\u001b[0m\u001b[0;34m'Schema'\u001b[0m\u001b[0;34m]\u001b[0m\u001b[0;34m,\u001b[0m \u001b[0mrow\u001b[0m\u001b[0;34m[\u001b[0m\u001b[0;34m'Top 5 Entries of Table'\u001b[0m\u001b[0;34m]\u001b[0m\u001b[0;34m,\u001b[0m \u001b[0;36m2\u001b[0m\u001b[0;34m)\u001b[0m\u001b[0;34m\u001b[0m\u001b[0;34m\u001b[0m\u001b[0m\n\u001b[0m\u001b[1;32m     19\u001b[0m   \u001b[0mend_time\u001b[0m \u001b[0;34m=\u001b[0m \u001b[0mtime\u001b[0m\u001b[0;34m.\u001b[0m\u001b[0mperf_counter\u001b[0m\u001b[0;34m(\u001b[0m\u001b[0;34m)\u001b[0m\u001b[0;34m\u001b[0m\u001b[0;34m\u001b[0m\u001b[0m\n\u001b[1;32m     20\u001b[0m   \u001b[0mdf_complete\u001b[0m\u001b[0;34m.\u001b[0m\u001b[0mat\u001b[0m\u001b[0;34m[\u001b[0m\u001b[0mindex\u001b[0m\u001b[0;34m,\u001b[0m \u001b[0;34m'LFM_Latency'\u001b[0m\u001b[0;34m]\u001b[0m \u001b[0;34m=\u001b[0m \u001b[0mend_time\u001b[0m \u001b[0;34m-\u001b[0m \u001b[0mstart_time\u001b[0m\u001b[0;34m\u001b[0m\u001b[0;34m\u001b[0m\u001b[0m\n",
      "\u001b[0;32m<ipython-input-5-eaa9a8ff6ddf>\u001b[0m in \u001b[0;36mgenerate_sql_query\u001b[0;34m(model, natural_language_query, schema, top_entries, shot)\u001b[0m\n\u001b[1;32m     17\u001b[0m              \u001b[0;34mf\"Top entries of the table:\\n{top_entries}\\n\"\u001b[0m\u001b[0;34m\u001b[0m\u001b[0;34m\u001b[0m\u001b[0m\n\u001b[1;32m     18\u001b[0m \u001b[0;34m\u001b[0m\u001b[0m\n\u001b[0;32m---> 19\u001b[0;31m   completion = client.chat.completions.create(\n\u001b[0m\u001b[1;32m     20\u001b[0m       \u001b[0mmodel\u001b[0m \u001b[0;34m=\u001b[0m \u001b[0mmodel_table\u001b[0m\u001b[0;34m[\u001b[0m\u001b[0mmodel\u001b[0m\u001b[0;34m]\u001b[0m\u001b[0;34m,\u001b[0m\u001b[0;34m\u001b[0m\u001b[0;34m\u001b[0m\u001b[0m\n\u001b[1;32m     21\u001b[0m       messages=[\n",
      "\u001b[0;32m/usr/local/lib/python3.10/dist-packages/openai/_utils/_utils.py\u001b[0m in \u001b[0;36mwrapper\u001b[0;34m(*args, **kwargs)\u001b[0m\n\u001b[1;32m    273\u001b[0m                         \u001b[0mmsg\u001b[0m \u001b[0;34m=\u001b[0m \u001b[0;34mf\"Missing required argument: {quote(missing[0])}\"\u001b[0m\u001b[0;34m\u001b[0m\u001b[0;34m\u001b[0m\u001b[0m\n\u001b[1;32m    274\u001b[0m                 \u001b[0;32mraise\u001b[0m \u001b[0mTypeError\u001b[0m\u001b[0;34m(\u001b[0m\u001b[0mmsg\u001b[0m\u001b[0;34m)\u001b[0m\u001b[0;34m\u001b[0m\u001b[0;34m\u001b[0m\u001b[0m\n\u001b[0;32m--> 275\u001b[0;31m             \u001b[0;32mreturn\u001b[0m \u001b[0mfunc\u001b[0m\u001b[0;34m(\u001b[0m\u001b[0;34m*\u001b[0m\u001b[0margs\u001b[0m\u001b[0;34m,\u001b[0m \u001b[0;34m**\u001b[0m\u001b[0mkwargs\u001b[0m\u001b[0;34m)\u001b[0m\u001b[0;34m\u001b[0m\u001b[0;34m\u001b[0m\u001b[0m\n\u001b[0m\u001b[1;32m    276\u001b[0m \u001b[0;34m\u001b[0m\u001b[0m\n\u001b[1;32m    277\u001b[0m         \u001b[0;32mreturn\u001b[0m \u001b[0mwrapper\u001b[0m  \u001b[0;31m# type: ignore\u001b[0m\u001b[0;34m\u001b[0m\u001b[0;34m\u001b[0m\u001b[0m\n",
      "\u001b[0;32m/usr/local/lib/python3.10/dist-packages/openai/resources/chat/completions.py\u001b[0m in \u001b[0;36mcreate\u001b[0;34m(self, messages, model, audio, frequency_penalty, function_call, functions, logit_bias, logprobs, max_completion_tokens, max_tokens, metadata, modalities, n, parallel_tool_calls, prediction, presence_penalty, response_format, seed, service_tier, stop, store, stream, stream_options, temperature, tool_choice, tools, top_logprobs, top_p, user, extra_headers, extra_query, extra_body, timeout)\u001b[0m\n\u001b[1;32m    827\u001b[0m     ) -> ChatCompletion | Stream[ChatCompletionChunk]:\n\u001b[1;32m    828\u001b[0m         \u001b[0mvalidate_response_format\u001b[0m\u001b[0;34m(\u001b[0m\u001b[0mresponse_format\u001b[0m\u001b[0;34m)\u001b[0m\u001b[0;34m\u001b[0m\u001b[0;34m\u001b[0m\u001b[0m\n\u001b[0;32m--> 829\u001b[0;31m         return self._post(\n\u001b[0m\u001b[1;32m    830\u001b[0m             \u001b[0;34m\"/chat/completions\"\u001b[0m\u001b[0;34m,\u001b[0m\u001b[0;34m\u001b[0m\u001b[0;34m\u001b[0m\u001b[0m\n\u001b[1;32m    831\u001b[0m             body=maybe_transform(\n",
      "\u001b[0;32m/usr/local/lib/python3.10/dist-packages/openai/_base_client.py\u001b[0m in \u001b[0;36mpost\u001b[0;34m(self, path, cast_to, body, options, files, stream, stream_cls)\u001b[0m\n\u001b[1;32m   1276\u001b[0m             \u001b[0mmethod\u001b[0m\u001b[0;34m=\u001b[0m\u001b[0;34m\"post\"\u001b[0m\u001b[0;34m,\u001b[0m \u001b[0murl\u001b[0m\u001b[0;34m=\u001b[0m\u001b[0mpath\u001b[0m\u001b[0;34m,\u001b[0m \u001b[0mjson_data\u001b[0m\u001b[0;34m=\u001b[0m\u001b[0mbody\u001b[0m\u001b[0;34m,\u001b[0m \u001b[0mfiles\u001b[0m\u001b[0;34m=\u001b[0m\u001b[0mto_httpx_files\u001b[0m\u001b[0;34m(\u001b[0m\u001b[0mfiles\u001b[0m\u001b[0;34m)\u001b[0m\u001b[0;34m,\u001b[0m \u001b[0;34m**\u001b[0m\u001b[0moptions\u001b[0m\u001b[0;34m\u001b[0m\u001b[0;34m\u001b[0m\u001b[0m\n\u001b[1;32m   1277\u001b[0m         )\n\u001b[0;32m-> 1278\u001b[0;31m         \u001b[0;32mreturn\u001b[0m \u001b[0mcast\u001b[0m\u001b[0;34m(\u001b[0m\u001b[0mResponseT\u001b[0m\u001b[0;34m,\u001b[0m \u001b[0mself\u001b[0m\u001b[0;34m.\u001b[0m\u001b[0mrequest\u001b[0m\u001b[0;34m(\u001b[0m\u001b[0mcast_to\u001b[0m\u001b[0;34m,\u001b[0m \u001b[0mopts\u001b[0m\u001b[0;34m,\u001b[0m \u001b[0mstream\u001b[0m\u001b[0;34m=\u001b[0m\u001b[0mstream\u001b[0m\u001b[0;34m,\u001b[0m \u001b[0mstream_cls\u001b[0m\u001b[0;34m=\u001b[0m\u001b[0mstream_cls\u001b[0m\u001b[0;34m)\u001b[0m\u001b[0;34m)\u001b[0m\u001b[0;34m\u001b[0m\u001b[0;34m\u001b[0m\u001b[0m\n\u001b[0m\u001b[1;32m   1279\u001b[0m \u001b[0;34m\u001b[0m\u001b[0m\n\u001b[1;32m   1280\u001b[0m     def patch(\n",
      "\u001b[0;32m/usr/local/lib/python3.10/dist-packages/openai/_base_client.py\u001b[0m in \u001b[0;36mrequest\u001b[0;34m(self, cast_to, options, remaining_retries, stream, stream_cls)\u001b[0m\n\u001b[1;32m    953\u001b[0m             \u001b[0mretries_taken\u001b[0m \u001b[0;34m=\u001b[0m \u001b[0;36m0\u001b[0m\u001b[0;34m\u001b[0m\u001b[0;34m\u001b[0m\u001b[0m\n\u001b[1;32m    954\u001b[0m \u001b[0;34m\u001b[0m\u001b[0m\n\u001b[0;32m--> 955\u001b[0;31m         return self._request(\n\u001b[0m\u001b[1;32m    956\u001b[0m             \u001b[0mcast_to\u001b[0m\u001b[0;34m=\u001b[0m\u001b[0mcast_to\u001b[0m\u001b[0;34m,\u001b[0m\u001b[0;34m\u001b[0m\u001b[0;34m\u001b[0m\u001b[0m\n\u001b[1;32m    957\u001b[0m             \u001b[0moptions\u001b[0m\u001b[0;34m=\u001b[0m\u001b[0moptions\u001b[0m\u001b[0;34m,\u001b[0m\u001b[0;34m\u001b[0m\u001b[0;34m\u001b[0m\u001b[0m\n",
      "\u001b[0;32m/usr/local/lib/python3.10/dist-packages/openai/_base_client.py\u001b[0m in \u001b[0;36m_request\u001b[0;34m(self, cast_to, options, retries_taken, stream, stream_cls)\u001b[0m\n\u001b[1;32m   1042\u001b[0m             \u001b[0;32mif\u001b[0m \u001b[0mremaining_retries\u001b[0m \u001b[0;34m>\u001b[0m \u001b[0;36m0\u001b[0m \u001b[0;32mand\u001b[0m \u001b[0mself\u001b[0m\u001b[0;34m.\u001b[0m\u001b[0m_should_retry\u001b[0m\u001b[0;34m(\u001b[0m\u001b[0merr\u001b[0m\u001b[0;34m.\u001b[0m\u001b[0mresponse\u001b[0m\u001b[0;34m)\u001b[0m\u001b[0;34m:\u001b[0m\u001b[0;34m\u001b[0m\u001b[0;34m\u001b[0m\u001b[0m\n\u001b[1;32m   1043\u001b[0m                 \u001b[0merr\u001b[0m\u001b[0;34m.\u001b[0m\u001b[0mresponse\u001b[0m\u001b[0;34m.\u001b[0m\u001b[0mclose\u001b[0m\u001b[0;34m(\u001b[0m\u001b[0;34m)\u001b[0m\u001b[0;34m\u001b[0m\u001b[0;34m\u001b[0m\u001b[0m\n\u001b[0;32m-> 1044\u001b[0;31m                 return self._retry_request(\n\u001b[0m\u001b[1;32m   1045\u001b[0m                     \u001b[0minput_options\u001b[0m\u001b[0;34m,\u001b[0m\u001b[0;34m\u001b[0m\u001b[0;34m\u001b[0m\u001b[0m\n\u001b[1;32m   1046\u001b[0m                     \u001b[0mcast_to\u001b[0m\u001b[0;34m,\u001b[0m\u001b[0;34m\u001b[0m\u001b[0;34m\u001b[0m\u001b[0m\n",
      "\u001b[0;32m/usr/local/lib/python3.10/dist-packages/openai/_base_client.py\u001b[0m in \u001b[0;36m_retry_request\u001b[0;34m(self, options, cast_to, retries_taken, response_headers, stream, stream_cls)\u001b[0m\n\u001b[1;32m   1091\u001b[0m         \u001b[0mtime\u001b[0m\u001b[0;34m.\u001b[0m\u001b[0msleep\u001b[0m\u001b[0;34m(\u001b[0m\u001b[0mtimeout\u001b[0m\u001b[0;34m)\u001b[0m\u001b[0;34m\u001b[0m\u001b[0;34m\u001b[0m\u001b[0m\n\u001b[1;32m   1092\u001b[0m \u001b[0;34m\u001b[0m\u001b[0m\n\u001b[0;32m-> 1093\u001b[0;31m         return self._request(\n\u001b[0m\u001b[1;32m   1094\u001b[0m             \u001b[0moptions\u001b[0m\u001b[0;34m=\u001b[0m\u001b[0moptions\u001b[0m\u001b[0;34m,\u001b[0m\u001b[0;34m\u001b[0m\u001b[0;34m\u001b[0m\u001b[0m\n\u001b[1;32m   1095\u001b[0m             \u001b[0mcast_to\u001b[0m\u001b[0;34m=\u001b[0m\u001b[0mcast_to\u001b[0m\u001b[0;34m,\u001b[0m\u001b[0;34m\u001b[0m\u001b[0;34m\u001b[0m\u001b[0m\n",
      "\u001b[0;32m/usr/local/lib/python3.10/dist-packages/openai/_base_client.py\u001b[0m in \u001b[0;36m_request\u001b[0;34m(self, cast_to, options, retries_taken, stream, stream_cls)\u001b[0m\n\u001b[1;32m   1042\u001b[0m             \u001b[0;32mif\u001b[0m \u001b[0mremaining_retries\u001b[0m \u001b[0;34m>\u001b[0m \u001b[0;36m0\u001b[0m \u001b[0;32mand\u001b[0m \u001b[0mself\u001b[0m\u001b[0;34m.\u001b[0m\u001b[0m_should_retry\u001b[0m\u001b[0;34m(\u001b[0m\u001b[0merr\u001b[0m\u001b[0;34m.\u001b[0m\u001b[0mresponse\u001b[0m\u001b[0;34m)\u001b[0m\u001b[0;34m:\u001b[0m\u001b[0;34m\u001b[0m\u001b[0;34m\u001b[0m\u001b[0m\n\u001b[1;32m   1043\u001b[0m                 \u001b[0merr\u001b[0m\u001b[0;34m.\u001b[0m\u001b[0mresponse\u001b[0m\u001b[0;34m.\u001b[0m\u001b[0mclose\u001b[0m\u001b[0;34m(\u001b[0m\u001b[0;34m)\u001b[0m\u001b[0;34m\u001b[0m\u001b[0;34m\u001b[0m\u001b[0m\n\u001b[0;32m-> 1044\u001b[0;31m                 return self._retry_request(\n\u001b[0m\u001b[1;32m   1045\u001b[0m                     \u001b[0minput_options\u001b[0m\u001b[0;34m,\u001b[0m\u001b[0;34m\u001b[0m\u001b[0;34m\u001b[0m\u001b[0m\n\u001b[1;32m   1046\u001b[0m                     \u001b[0mcast_to\u001b[0m\u001b[0;34m,\u001b[0m\u001b[0;34m\u001b[0m\u001b[0;34m\u001b[0m\u001b[0m\n",
      "\u001b[0;32m/usr/local/lib/python3.10/dist-packages/openai/_base_client.py\u001b[0m in \u001b[0;36m_retry_request\u001b[0;34m(self, options, cast_to, retries_taken, response_headers, stream, stream_cls)\u001b[0m\n\u001b[1;32m   1091\u001b[0m         \u001b[0mtime\u001b[0m\u001b[0;34m.\u001b[0m\u001b[0msleep\u001b[0m\u001b[0;34m(\u001b[0m\u001b[0mtimeout\u001b[0m\u001b[0;34m)\u001b[0m\u001b[0;34m\u001b[0m\u001b[0;34m\u001b[0m\u001b[0m\n\u001b[1;32m   1092\u001b[0m \u001b[0;34m\u001b[0m\u001b[0m\n\u001b[0;32m-> 1093\u001b[0;31m         return self._request(\n\u001b[0m\u001b[1;32m   1094\u001b[0m             \u001b[0moptions\u001b[0m\u001b[0;34m=\u001b[0m\u001b[0moptions\u001b[0m\u001b[0;34m,\u001b[0m\u001b[0;34m\u001b[0m\u001b[0;34m\u001b[0m\u001b[0m\n\u001b[1;32m   1095\u001b[0m             \u001b[0mcast_to\u001b[0m\u001b[0;34m=\u001b[0m\u001b[0mcast_to\u001b[0m\u001b[0;34m,\u001b[0m\u001b[0;34m\u001b[0m\u001b[0;34m\u001b[0m\u001b[0m\n",
      "\u001b[0;32m/usr/local/lib/python3.10/dist-packages/openai/_base_client.py\u001b[0m in \u001b[0;36m_request\u001b[0;34m(self, cast_to, options, retries_taken, stream, stream_cls)\u001b[0m\n\u001b[1;32m   1057\u001b[0m \u001b[0;34m\u001b[0m\u001b[0m\n\u001b[1;32m   1058\u001b[0m             \u001b[0mlog\u001b[0m\u001b[0;34m.\u001b[0m\u001b[0mdebug\u001b[0m\u001b[0;34m(\u001b[0m\u001b[0;34m\"Re-raising status error\"\u001b[0m\u001b[0;34m)\u001b[0m\u001b[0;34m\u001b[0m\u001b[0;34m\u001b[0m\u001b[0m\n\u001b[0;32m-> 1059\u001b[0;31m             \u001b[0;32mraise\u001b[0m \u001b[0mself\u001b[0m\u001b[0;34m.\u001b[0m\u001b[0m_make_status_error_from_response\u001b[0m\u001b[0;34m(\u001b[0m\u001b[0merr\u001b[0m\u001b[0;34m.\u001b[0m\u001b[0mresponse\u001b[0m\u001b[0;34m)\u001b[0m \u001b[0;32mfrom\u001b[0m \u001b[0;32mNone\u001b[0m\u001b[0;34m\u001b[0m\u001b[0;34m\u001b[0m\u001b[0m\n\u001b[0m\u001b[1;32m   1060\u001b[0m \u001b[0;34m\u001b[0m\u001b[0m\n\u001b[1;32m   1061\u001b[0m         return self._process_response(\n",
      "\u001b[0;31mRateLimitError\u001b[0m: Error code: 429 - {'error': {'message': 'Rate limit exceeded: free-models-per-min', 'code': 429}}"
     ]
    }
   ],
   "source": [
    "import numpy as np\n",
    "import time\n",
    "from rouge_score import rouge_scorer\n",
    "\n",
    "df_complete['LFM_Latency'] = np.nan\n",
    "df_complete['LFM_Rouge'] = np.nan\n",
    "df_complete['LFM_Levenshtein'] = np.nan\n",
    "df_complete['lfm_lat'] = np.nan\n",
    "\n",
    "# Levenshtein similarity using difflib\n",
    "def levenshtein_similarity(a, b):\n",
    "    return difflib.SequenceMatcher(None, str(a), str(b)).ratio()\n",
    "\n",
    "rouge_scorer_tool = rouge_scorer.RougeScorer(['rouge1'], use_stemmer=True)\n",
    "\n",
    "for index, row in df_complete.iterrows():\n",
    "  start_time = time.perf_counter()\n",
    "  df_complete.at[index, 'lfm_lat'] = generate_sql_query(\"lfm\", row['Natural Language Query'], row['Schema'], row['Top 5 Entries of Table'], 2)\n",
    "  end_time = time.perf_counter()\n",
    "  df_complete.at[index, 'LFM_Latency'] = end_time - start_time\n",
    "  df_complete.at[index, 'LFM_Levenshtein'] = levenshtein_similarity(row['SQL Query'], df_complete.at[index, 'lfm_lat'])\n",
    "  df_complete.at[index, 'LFM_Rouge'] = rouge_scorer_tool.score(row['SQL Query'], df_complete.at[index, 'lfm_lat'])['rouge1'].fmeasure\n",
    "\n",
    "df_complete.to_csv(sql_loc+'/latency_comp.csv', index=False)\n"
   ]
  },
  {
   "cell_type": "code",
   "execution_count": null,
   "metadata": {
    "colab": {
     "base_uri": "https://localhost:8080/",
     "height": 1000
    },
    "id": "XULPUTgJiHnl",
    "outputId": "236dc659-1c7a-45d2-a5b0-46b182ec44cb"
   },
   "outputs": [
    {
     "data": {
      "image/png": "[encoded data removed]",
      "text/plain": [
       "<Figure size 1000x600 with 1 Axes>"
      ]
     },
     "metadata": {},
     "output_type": "display_data"
    },
    {
     "data": {
      "text/plain": [
       "<Figure size 640x480 with 0 Axes>"
      ]
     },
     "metadata": {},
     "output_type": "display_data"
    },
    {
     "data": {
      "image/png": "[encoded data removed]",
      "text/plain": [
       "<Figure size 1000x600 with 1 Axes>"
      ]
     },
     "metadata": {},
     "output_type": "display_data"
    },
    {
     "data": {
      "text/plain": [
       "<Figure size 640x480 with 0 Axes>"
      ]
     },
     "metadata": {},
     "output_type": "display_data"
    }
   ],
   "source": [
    "import matplotlib.pyplot as plt\n",
    "\n",
    "image_dir = base_dir + '/Images'\n",
    "\n",
    "\n",
    "# Create the plot\n",
    "plt.figure(figsize=(10, 6))\n",
    "plt.scatter(df_complete[df_complete['complexity'] == -1]['Gemma_Levenshtein'], df_complete[df_complete['complexity'] == -1]['Gemma_Latency'], color='blue', label='Simple')\n",
    "plt.scatter(df_complete[df_complete['complexity'] == 1]['Gemma_Levenshtein'], df_complete[df_complete['complexity'] == 1]['Gemma_Latency'], color='red', label='Complex')\n",
    "\n",
    "plt.xlabel('Levenshtein Similarity')\n",
    "plt.ylabel('Latency (seconds)')\n",
    "plt.title('Levenshtein Similarity vs. Latency')\n",
    "plt.legend()\n",
    "plt.grid(True)\n",
    "plt.show()\n",
    "\n",
    "plt.savefig(image_dir + '\\gemma_1_levenshtein')\n",
    "\n",
    "\n",
    "# Create the plot\n",
    "plt.figure(figsize=(10, 6))\n",
    "plt.scatter(df_complete[df_complete['complexity'] == -1]['Gemma_Rouge'], df_complete[df_complete['complexity'] == -1]['Gemma_Latency'], color='blue', label='Simple')\n",
    "plt.scatter(df_complete[df_complete['complexity'] == 1]['Gemma_Rouge'], df_complete[df_complete['complexity'] == 1]['Gemma_Latency'], color='red', label='Complex')\n",
    "\n",
    "plt.xlabel('Rouge Similarity')\n",
    "plt.ylabel('Latency (seconds)')\n",
    "plt.title('Rouge Similarity vs. Latency')\n",
    "plt.legend()\n",
    "plt.grid(True)\n",
    "plt.show()\n",
    "\n",
    "plt.savefig(image_dir + '\\gemma_1_rouge')\n",
    "\n"
   ]
  },
  {
   "cell_type": "code",
   "execution_count": null,
   "metadata": {
    "colab": {
     "base_uri": "https://localhost:8080/",
     "height": 376
    },
    "collapsed": true,
    "id": "r-pHhwJxk4tN",
    "outputId": "86e766cd-65e0-4181-ce38-192248bcc0bd"
   },
   "outputs": [
    {
     "ename": "RateLimitError",
     "evalue": "Error code: 429 - {'error': {'message': 'Rate limit exceeded: free-models-per-min', 'code': 429}}",
     "output_type": "error",
     "traceback": [
      "\u001b[0;31m---------------------------------------------------------------------------\u001b[0m",
      "\u001b[0;31mRateLimitError\u001b[0m                            Traceback (most recent call last)",
      "\u001b[0;32m<ipython-input-11-2fca06cfe748>\u001b[0m in \u001b[0;36m<cell line: 17>\u001b[0;34m()\u001b[0m\n\u001b[1;32m     17\u001b[0m \u001b[0;32mfor\u001b[0m \u001b[0mindex\u001b[0m\u001b[0;34m,\u001b[0m \u001b[0mrow\u001b[0m \u001b[0;32min\u001b[0m \u001b[0mdf_complete\u001b[0m\u001b[0;34m.\u001b[0m\u001b[0miterrows\u001b[0m\u001b[0;34m(\u001b[0m\u001b[0;34m)\u001b[0m\u001b[0;34m:\u001b[0m\u001b[0;34m\u001b[0m\u001b[0;34m\u001b[0m\u001b[0m\n\u001b[1;32m     18\u001b[0m   \u001b[0mstart_time\u001b[0m \u001b[0;34m=\u001b[0m \u001b[0mtime\u001b[0m\u001b[0;34m.\u001b[0m\u001b[0mperf_counter\u001b[0m\u001b[0;34m(\u001b[0m\u001b[0;34m)\u001b[0m\u001b[0;34m\u001b[0m\u001b[0;34m\u001b[0m\u001b[0m\n\u001b[0;32m---> 19\u001b[0;31m   \u001b[0mdf_complete\u001b[0m\u001b[0;34m[\u001b[0m\u001b[0;34m'sql_gen'\u001b[0m\u001b[0;34m]\u001b[0m \u001b[0;34m=\u001b[0m \u001b[0mgenerate_sql_query\u001b[0m\u001b[0;34m(\u001b[0m\u001b[0;34m\"lfm\"\u001b[0m\u001b[0;34m,\u001b[0m \u001b[0mrow\u001b[0m\u001b[0;34m[\u001b[0m\u001b[0;34m'Natural Language Query'\u001b[0m\u001b[0;34m]\u001b[0m\u001b[0;34m,\u001b[0m \u001b[0mrow\u001b[0m\u001b[0;34m[\u001b[0m\u001b[0;34m'Schema'\u001b[0m\u001b[0;34m]\u001b[0m\u001b[0;34m,\u001b[0m \u001b[0mrow\u001b[0m\u001b[0;34m[\u001b[0m\u001b[0;34m'Top 5 Entries of Table'\u001b[0m\u001b[0;34m]\u001b[0m\u001b[0;34m,\u001b[0m \u001b[0;36m2\u001b[0m\u001b[0;34m)\u001b[0m\u001b[0;34m\u001b[0m\u001b[0;34m\u001b[0m\u001b[0m\n\u001b[0m\u001b[1;32m     20\u001b[0m   \u001b[0mend_time\u001b[0m \u001b[0;34m=\u001b[0m \u001b[0mtime\u001b[0m\u001b[0;34m.\u001b[0m\u001b[0mperf_counter\u001b[0m\u001b[0;34m(\u001b[0m\u001b[0;34m)\u001b[0m\u001b[0;34m\u001b[0m\u001b[0;34m\u001b[0m\u001b[0m\n\u001b[1;32m     21\u001b[0m   \u001b[0mdf_complete\u001b[0m\u001b[0;34m.\u001b[0m\u001b[0mat\u001b[0m\u001b[0;34m[\u001b[0m\u001b[0mindex\u001b[0m\u001b[0;34m,\u001b[0m \u001b[0;34m'Latency'\u001b[0m\u001b[0;34m]\u001b[0m \u001b[0;34m=\u001b[0m \u001b[0mend_time\u001b[0m \u001b[0;34m-\u001b[0m \u001b[0mstart_time\u001b[0m\u001b[0;34m\u001b[0m\u001b[0;34m\u001b[0m\u001b[0m\n",
      "\u001b[0;32m<ipython-input-5-eaa9a8ff6ddf>\u001b[0m in \u001b[0;36mgenerate_sql_query\u001b[0;34m(model, natural_language_query, schema, top_entries, shot)\u001b[0m\n\u001b[1;32m     17\u001b[0m              \u001b[0;34mf\"Top entries of the table:\\n{top_entries}\\n\"\u001b[0m\u001b[0;34m\u001b[0m\u001b[0;34m\u001b[0m\u001b[0m\n\u001b[1;32m     18\u001b[0m \u001b[0;34m\u001b[0m\u001b[0m\n\u001b[0;32m---> 19\u001b[0;31m   completion = client.chat.completions.create(\n\u001b[0m\u001b[1;32m     20\u001b[0m       \u001b[0mmodel\u001b[0m \u001b[0;34m=\u001b[0m \u001b[0mmodel_table\u001b[0m\u001b[0;34m[\u001b[0m\u001b[0mmodel\u001b[0m\u001b[0;34m]\u001b[0m\u001b[0;34m,\u001b[0m\u001b[0;34m\u001b[0m\u001b[0;34m\u001b[0m\u001b[0m\n\u001b[1;32m     21\u001b[0m       messages=[\n",
      "\u001b[0;32m/usr/local/lib/python3.10/dist-packages/openai/_utils/_utils.py\u001b[0m in \u001b[0;36mwrapper\u001b[0;34m(*args, **kwargs)\u001b[0m\n\u001b[1;32m    273\u001b[0m                         \u001b[0mmsg\u001b[0m \u001b[0;34m=\u001b[0m \u001b[0;34mf\"Missing required argument: {quote(missing[0])}\"\u001b[0m\u001b[0;34m\u001b[0m\u001b[0;34m\u001b[0m\u001b[0m\n\u001b[1;32m    274\u001b[0m                 \u001b[0;32mraise\u001b[0m \u001b[0mTypeError\u001b[0m\u001b[0;34m(\u001b[0m\u001b[0mmsg\u001b[0m\u001b[0;34m)\u001b[0m\u001b[0;34m\u001b[0m\u001b[0;34m\u001b[0m\u001b[0m\n\u001b[0;32m--> 275\u001b[0;31m             \u001b[0;32mreturn\u001b[0m \u001b[0mfunc\u001b[0m\u001b[0;34m(\u001b[0m\u001b[0;34m*\u001b[0m\u001b[0margs\u001b[0m\u001b[0;34m,\u001b[0m \u001b[0;34m**\u001b[0m\u001b[0mkwargs\u001b[0m\u001b[0;34m)\u001b[0m\u001b[0;34m\u001b[0m\u001b[0;34m\u001b[0m\u001b[0m\n\u001b[0m\u001b[1;32m    276\u001b[0m \u001b[0;34m\u001b[0m\u001b[0m\n\u001b[1;32m    277\u001b[0m         \u001b[0;32mreturn\u001b[0m \u001b[0mwrapper\u001b[0m  \u001b[0;31m# type: ignore\u001b[0m\u001b[0;34m\u001b[0m\u001b[0;34m\u001b[0m\u001b[0m\n",
      "\u001b[0;32m/usr/local/lib/python3.10/dist-packages/openai/resources/chat/completions.py\u001b[0m in \u001b[0;36mcreate\u001b[0;34m(self, messages, model, audio, frequency_penalty, function_call, functions, logit_bias, logprobs, max_completion_tokens, max_tokens, metadata, modalities, n, parallel_tool_calls, prediction, presence_penalty, response_format, seed, service_tier, stop, store, stream, stream_options, temperature, tool_choice, tools, top_logprobs, top_p, user, extra_headers, extra_query, extra_body, timeout)\u001b[0m\n\u001b[1;32m    827\u001b[0m     ) -> ChatCompletion | Stream[ChatCompletionChunk]:\n\u001b[1;32m    828\u001b[0m         \u001b[0mvalidate_response_format\u001b[0m\u001b[0;34m(\u001b[0m\u001b[0mresponse_format\u001b[0m\u001b[0;34m)\u001b[0m\u001b[0;34m\u001b[0m\u001b[0;34m\u001b[0m\u001b[0m\n\u001b[0;32m--> 829\u001b[0;31m         return self._post(\n\u001b[0m\u001b[1;32m    830\u001b[0m             \u001b[0;34m\"/chat/completions\"\u001b[0m\u001b[0;34m,\u001b[0m\u001b[0;34m\u001b[0m\u001b[0;34m\u001b[0m\u001b[0m\n\u001b[1;32m    831\u001b[0m             body=maybe_transform(\n",
      "\u001b[0;32m/usr/local/lib/python3.10/dist-packages/openai/_base_client.py\u001b[0m in \u001b[0;36mpost\u001b[0;34m(self, path, cast_to, body, options, files, stream, stream_cls)\u001b[0m\n\u001b[1;32m   1276\u001b[0m             \u001b[0mmethod\u001b[0m\u001b[0;34m=\u001b[0m\u001b[0;34m\"post\"\u001b[0m\u001b[0;34m,\u001b[0m \u001b[0murl\u001b[0m\u001b[0;34m=\u001b[0m\u001b[0mpath\u001b[0m\u001b[0;34m,\u001b[0m \u001b[0mjson_data\u001b[0m\u001b[0;34m=\u001b[0m\u001b[0mbody\u001b[0m\u001b[0;34m,\u001b[0m \u001b[0mfiles\u001b[0m\u001b[0;34m=\u001b[0m\u001b[0mto_httpx_files\u001b[0m\u001b[0;34m(\u001b[0m\u001b[0mfiles\u001b[0m\u001b[0;34m)\u001b[0m\u001b[0;34m,\u001b[0m \u001b[0;34m**\u001b[0m\u001b[0moptions\u001b[0m\u001b[0;34m\u001b[0m\u001b[0;34m\u001b[0m\u001b[0m\n\u001b[1;32m   1277\u001b[0m         )\n\u001b[0;32m-> 1278\u001b[0;31m         \u001b[0;32mreturn\u001b[0m \u001b[0mcast\u001b[0m\u001b[0;34m(\u001b[0m\u001b[0mResponseT\u001b[0m\u001b[0;34m,\u001b[0m \u001b[0mself\u001b[0m\u001b[0;34m.\u001b[0m\u001b[0mrequest\u001b[0m\u001b[0;34m(\u001b[0m\u001b[0mcast_to\u001b[0m\u001b[0;34m,\u001b[0m \u001b[0mopts\u001b[0m\u001b[0;34m,\u001b[0m \u001b[0mstream\u001b[0m\u001b[0;34m=\u001b[0m\u001b[0mstream\u001b[0m\u001b[0;34m,\u001b[0m \u001b[0mstream_cls\u001b[0m\u001b[0;34m=\u001b[0m\u001b[0mstream_cls\u001b[0m\u001b[0;34m)\u001b[0m\u001b[0;34m)\u001b[0m\u001b[0;34m\u001b[0m\u001b[0;34m\u001b[0m\u001b[0m\n\u001b[0m\u001b[1;32m   1279\u001b[0m \u001b[0;34m\u001b[0m\u001b[0m\n\u001b[1;32m   1280\u001b[0m     def patch(\n",
      "\u001b[0;32m/usr/local/lib/python3.10/dist-packages/openai/_base_client.py\u001b[0m in \u001b[0;36mrequest\u001b[0;34m(self, cast_to, options, remaining_retries, stream, stream_cls)\u001b[0m\n\u001b[1;32m    953\u001b[0m             \u001b[0mretries_taken\u001b[0m \u001b[0;34m=\u001b[0m \u001b[0;36m0\u001b[0m\u001b[0;34m\u001b[0m\u001b[0;34m\u001b[0m\u001b[0m\n\u001b[1;32m    954\u001b[0m \u001b[0;34m\u001b[0m\u001b[0m\n\u001b[0;32m--> 955\u001b[0;31m         return self._request(\n\u001b[0m\u001b[1;32m    956\u001b[0m             \u001b[0mcast_to\u001b[0m\u001b[0;34m=\u001b[0m\u001b[0mcast_to\u001b[0m\u001b[0;34m,\u001b[0m\u001b[0;34m\u001b[0m\u001b[0;34m\u001b[0m\u001b[0m\n\u001b[1;32m    957\u001b[0m             \u001b[0moptions\u001b[0m\u001b[0;34m=\u001b[0m\u001b[0moptions\u001b[0m\u001b[0;34m,\u001b[0m\u001b[0;34m\u001b[0m\u001b[0;34m\u001b[0m\u001b[0m\n",
      "\u001b[0;32m/usr/local/lib/python3.10/dist-packages/openai/_base_client.py\u001b[0m in \u001b[0;36m_request\u001b[0;34m(self, cast_to, options, retries_taken, stream, stream_cls)\u001b[0m\n\u001b[1;32m   1042\u001b[0m             \u001b[0;32mif\u001b[0m \u001b[0mremaining_retries\u001b[0m \u001b[0;34m>\u001b[0m \u001b[0;36m0\u001b[0m \u001b[0;32mand\u001b[0m \u001b[0mself\u001b[0m\u001b[0;34m.\u001b[0m\u001b[0m_should_retry\u001b[0m\u001b[0;34m(\u001b[0m\u001b[0merr\u001b[0m\u001b[0;34m.\u001b[0m\u001b[0mresponse\u001b[0m\u001b[0;34m)\u001b[0m\u001b[0;34m:\u001b[0m\u001b[0;34m\u001b[0m\u001b[0;34m\u001b[0m\u001b[0m\n\u001b[1;32m   1043\u001b[0m                 \u001b[0merr\u001b[0m\u001b[0;34m.\u001b[0m\u001b[0mresponse\u001b[0m\u001b[0;34m.\u001b[0m\u001b[0mclose\u001b[0m\u001b[0;34m(\u001b[0m\u001b[0;34m)\u001b[0m\u001b[0;34m\u001b[0m\u001b[0;34m\u001b[0m\u001b[0m\n\u001b[0;32m-> 1044\u001b[0;31m                 return self._retry_request(\n\u001b[0m\u001b[1;32m   1045\u001b[0m                     \u001b[0minput_options\u001b[0m\u001b[0;34m,\u001b[0m\u001b[0;34m\u001b[0m\u001b[0;34m\u001b[0m\u001b[0m\n\u001b[1;32m   1046\u001b[0m                     \u001b[0mcast_to\u001b[0m\u001b[0;34m,\u001b[0m\u001b[0;34m\u001b[0m\u001b[0;34m\u001b[0m\u001b[0m\n",
      "\u001b[0;32m/usr/local/lib/python3.10/dist-packages/openai/_base_client.py\u001b[0m in \u001b[0;36m_retry_request\u001b[0;34m(self, options, cast_to, retries_taken, response_headers, stream, stream_cls)\u001b[0m\n\u001b[1;32m   1091\u001b[0m         \u001b[0mtime\u001b[0m\u001b[0;34m.\u001b[0m\u001b[0msleep\u001b[0m\u001b[0;34m(\u001b[0m\u001b[0mtimeout\u001b[0m\u001b[0;34m)\u001b[0m\u001b[0;34m\u001b[0m\u001b[0;34m\u001b[0m\u001b[0m\n\u001b[1;32m   1092\u001b[0m \u001b[0;34m\u001b[0m\u001b[0m\n\u001b[0;32m-> 1093\u001b[0;31m         return self._request(\n\u001b[0m\u001b[1;32m   1094\u001b[0m             \u001b[0moptions\u001b[0m\u001b[0;34m=\u001b[0m\u001b[0moptions\u001b[0m\u001b[0;34m,\u001b[0m\u001b[0;34m\u001b[0m\u001b[0;34m\u001b[0m\u001b[0m\n\u001b[1;32m   1095\u001b[0m             \u001b[0mcast_to\u001b[0m\u001b[0;34m=\u001b[0m\u001b[0mcast_to\u001b[0m\u001b[0;34m,\u001b[0m\u001b[0;34m\u001b[0m\u001b[0;34m\u001b[0m\u001b[0m\n",
      "\u001b[0;32m/usr/local/lib/python3.10/dist-packages/openai/_base_client.py\u001b[0m in \u001b[0;36m_request\u001b[0;34m(self, cast_to, options, retries_taken, stream, stream_cls)\u001b[0m\n\u001b[1;32m   1042\u001b[0m             \u001b[0;32mif\u001b[0m \u001b[0mremaining_retries\u001b[0m \u001b[0;34m>\u001b[0m \u001b[0;36m0\u001b[0m \u001b[0;32mand\u001b[0m \u001b[0mself\u001b[0m\u001b[0;34m.\u001b[0m\u001b[0m_should_retry\u001b[0m\u001b[0;34m(\u001b[0m\u001b[0merr\u001b[0m\u001b[0;34m.\u001b[0m\u001b[0mresponse\u001b[0m\u001b[0;34m)\u001b[0m\u001b[0;34m:\u001b[0m\u001b[0;34m\u001b[0m\u001b[0;34m\u001b[0m\u001b[0m\n\u001b[1;32m   1043\u001b[0m                 \u001b[0merr\u001b[0m\u001b[0;34m.\u001b[0m\u001b[0mresponse\u001b[0m\u001b[0;34m.\u001b[0m\u001b[0mclose\u001b[0m\u001b[0;34m(\u001b[0m\u001b[0;34m)\u001b[0m\u001b[0;34m\u001b[0m\u001b[0;34m\u001b[0m\u001b[0m\n\u001b[0;32m-> 1044\u001b[0;31m                 return self._retry_request(\n\u001b[0m\u001b[1;32m   1045\u001b[0m                     \u001b[0minput_options\u001b[0m\u001b[0;34m,\u001b[0m\u001b[0;34m\u001b[0m\u001b[0;34m\u001b[0m\u001b[0m\n\u001b[1;32m   1046\u001b[0m                     \u001b[0mcast_to\u001b[0m\u001b[0;34m,\u001b[0m\u001b[0;34m\u001b[0m\u001b[0;34m\u001b[0m\u001b[0m\n",
      "\u001b[0;32m/usr/local/lib/python3.10/dist-packages/openai/_base_client.py\u001b[0m in \u001b[0;36m_retry_request\u001b[0;34m(self, options, cast_to, retries_taken, response_headers, stream, stream_cls)\u001b[0m\n\u001b[1;32m   1091\u001b[0m         \u001b[0mtime\u001b[0m\u001b[0;34m.\u001b[0m\u001b[0msleep\u001b[0m\u001b[0;34m(\u001b[0m\u001b[0mtimeout\u001b[0m\u001b[0;34m)\u001b[0m\u001b[0;34m\u001b[0m\u001b[0;34m\u001b[0m\u001b[0m\n\u001b[1;32m   1092\u001b[0m \u001b[0;34m\u001b[0m\u001b[0m\n\u001b[0;32m-> 1093\u001b[0;31m         return self._request(\n\u001b[0m\u001b[1;32m   1094\u001b[0m             \u001b[0moptions\u001b[0m\u001b[0;34m=\u001b[0m\u001b[0moptions\u001b[0m\u001b[0;34m,\u001b[0m\u001b[0;34m\u001b[0m\u001b[0;34m\u001b[0m\u001b[0m\n\u001b[1;32m   1095\u001b[0m             \u001b[0mcast_to\u001b[0m\u001b[0;34m=\u001b[0m\u001b[0mcast_to\u001b[0m\u001b[0;34m,\u001b[0m\u001b[0;34m\u001b[0m\u001b[0;34m\u001b[0m\u001b[0m\n",
      "\u001b[0;32m/usr/local/lib/python3.10/dist-packages/openai/_base_client.py\u001b[0m in \u001b[0;36m_request\u001b[0;34m(self, cast_to, options, retries_taken, stream, stream_cls)\u001b[0m\n\u001b[1;32m   1057\u001b[0m \u001b[0;34m\u001b[0m\u001b[0m\n\u001b[1;32m   1058\u001b[0m             \u001b[0mlog\u001b[0m\u001b[0;34m.\u001b[0m\u001b[0mdebug\u001b[0m\u001b[0;34m(\u001b[0m\u001b[0;34m\"Re-raising status error\"\u001b[0m\u001b[0;34m)\u001b[0m\u001b[0;34m\u001b[0m\u001b[0;34m\u001b[0m\u001b[0m\n\u001b[0;32m-> 1059\u001b[0;31m             \u001b[0;32mraise\u001b[0m \u001b[0mself\u001b[0m\u001b[0;34m.\u001b[0m\u001b[0m_make_status_error_from_response\u001b[0m\u001b[0;34m(\u001b[0m\u001b[0merr\u001b[0m\u001b[0;34m.\u001b[0m\u001b[0mresponse\u001b[0m\u001b[0;34m)\u001b[0m \u001b[0;32mfrom\u001b[0m \u001b[0;32mNone\u001b[0m\u001b[0;34m\u001b[0m\u001b[0;34m\u001b[0m\u001b[0m\n\u001b[0m\u001b[1;32m   1060\u001b[0m \u001b[0;34m\u001b[0m\u001b[0m\n\u001b[1;32m   1061\u001b[0m         return self._process_response(\n",
      "\u001b[0;31mRateLimitError\u001b[0m: Error code: 429 - {'error': {'message': 'Rate limit exceeded: free-models-per-min', 'code': 429}}"
     ]
    }
   ],
   "source": [
    "# Now for LFM\n",
    "\n",
    "import numpy as np\n",
    "import time\n",
    "from rouge_score import rouge_scorer\n",
    "\n",
    "df_complete['Latency'] = np.nan\n",
    "df_complete['Rouge'] = np.nan\n",
    "df_complete['Levenshtein'] = np.nan\n",
    "\n",
    "# Levenshtein similarity using difflib\n",
    "def levenshtein_similarity(a, b):\n",
    "    return difflib.SequenceMatcher(None, str(a), str(b)).ratio()\n",
    "\n",
    "rouge_scorer_tool = rouge_scorer.RougeScorer(['rouge1'], use_stemmer=True)\n",
    "\n",
    "for index, row in df_complete.iterrows():\n",
    "  start_time = time.perf_counter()\n",
    "  df_complete['sql_gen'] = generate_sql_query(\"lfm\", row['Natural Language Query'], row['Schema'], row['Top 5 Entries of Table'], 2)\n",
    "  end_time = time.perf_counter()\n",
    "  df_complete.at[index, 'Latency'] = end_time - start_time\n",
    "  df_complete.at[index, 'Levenshtein'] = levenshtein_similarity(row['SQL Query'], df_complete.at[index, 'sql_gen'])\n",
    "  df_complete.at[index, 'Rouge'] = rouge_scorer_tool.score(row['SQL Query'], df_complete.at[index, 'sql_gen'])['rouge1'].fmeasure\n"
   ]
  },
  {
   "cell_type": "code",
   "execution_count": null,
   "metadata": {
    "id": "neLd36nfk9Ol"
   },
   "outputs": [],
   "source": [
    "import matplotlib.pyplot as plt\n",
    "\n",
    "image_dir = base_dir + '/Images'\n",
    "\n",
    "# Create the plot\n",
    "plt.figure(figsize=(10, 6))\n",
    "plt.scatter(df_complete[df_complete['complexity'] == -1]['Levenshtein'], df_complete[df_complete['complexity'] == -1]['Latency'], color='blue', label='Simple')\n",
    "plt.scatter(df_complete[df_complete['complexity'] == 1]['Levenshtein'], df_complete[df_complete['complexity'] == 1]['Latency'], color='red', label='Complex')\n",
    "\n",
    "plt.xlabel('Levenshtein Similarity')\n",
    "plt.ylabel('Latency (seconds)')\n",
    "plt.title('Levenshtein Similarity vs. Latency')\n",
    "plt.legend()\n",
    "plt.grid(True)\n",
    "# plt.show()\n",
    "\n",
    "plt.savefig(image_dir + '\\lfm_levenshtein')\n",
    "\n",
    "\n",
    "# Create the plot\n",
    "plt.figure(figsize=(10, 6))\n",
    "plt.scatter(df_complete[df_complete['complexity'] == -1]['Rouge'], df_complete[df_complete['complexity'] == -1]['Latency'], color='blue', label='Simple')\n",
    "plt.scatter(df_complete[df_complete['complexity'] == 1]['Rouge'], df_complete[df_complete['complexity'] == 1]['Latency'], color='red', label='Complex')\n",
    "\n",
    "plt.xlabel('Rouge Similarity')\n",
    "plt.ylabel('Latency (seconds)')\n",
    "plt.title('Rouge Similarity vs. Latency')\n",
    "plt.legend()\n",
    "plt.grid(True)\n",
    "# plt.show()\n",
    "\n",
    "plt.savefig(image_dir + '\\lfm_rouge')"
   ]
  },
  {
   "cell_type": "markdown",
   "metadata": {
    "id": "weWhr5eR_Xdr"
   },
   "source": [
    "# Metric Analysis"
   ]
  },
  {
   "cell_type": "code",
   "execution_count": null,
   "metadata": {
    "colab": {
     "base_uri": "https://localhost:8080/"
    },
    "collapsed": true,
    "id": "6Bn2SfvH_aId",
    "outputId": "25f4e8e0-e0aa-4e94-c603-7a741461471b"
   },
   "outputs": [
    {
     "name": "stdout",
     "output_type": "stream",
     "text": [
      "Collecting rouge-score\n",
      "  Downloading rouge_score-0.1.2.tar.gz (17 kB)\n",
      "  Preparing metadata (setup.py) ... \u001b[?25l\u001b[?25hdone\n",
      "Collecting bert-score\n",
      "  Downloading bert_score-0.3.13-py3-none-any.whl.metadata (15 kB)\n",
      "Requirement already satisfied: absl-py in /usr/local/lib/python3.10/dist-packages (from rouge-score) (1.4.0)\n",
      "Requirement already satisfied: nltk in /usr/local/lib/python3.10/dist-packages (from rouge-score) (3.9.1)\n",
      "Requirement already satisfied: numpy in /usr/local/lib/python3.10/dist-packages (from rouge-score) (1.26.4)\n",
      "Requirement already satisfied: six>=1.14.0 in /usr/local/lib/python3.10/dist-packages (from rouge-score) (1.16.0)\n",
      "Requirement already satisfied: torch>=1.0.0 in /usr/local/lib/python3.10/dist-packages (from bert-score) (2.5.1+cu121)\n",
      "Requirement already satisfied: pandas>=1.0.1 in /usr/local/lib/python3.10/dist-packages (from bert-score) (2.2.2)\n",
      "Requirement already satisfied: transformers>=3.0.0 in /usr/local/lib/python3.10/dist-packages (from bert-score) (4.46.2)\n",
      "Requirement already satisfied: requests in /usr/local/lib/python3.10/dist-packages (from bert-score) (2.32.3)\n",
      "Requirement already satisfied: tqdm>=4.31.1 in /usr/local/lib/python3.10/dist-packages (from bert-score) (4.66.6)\n",
      "Requirement already satisfied: matplotlib in /usr/local/lib/python3.10/dist-packages (from bert-score) (3.8.0)\n",
      "Requirement already satisfied: packaging>=20.9 in /usr/local/lib/python3.10/dist-packages (from bert-score) (24.2)\n",
      "Requirement already satisfied: python-dateutil>=2.8.2 in /usr/local/lib/python3.10/dist-packages (from pandas>=1.0.1->bert-score) (2.8.2)\n",
      "Requirement already satisfied: pytz>=2020.1 in /usr/local/lib/python3.10/dist-packages (from pandas>=1.0.1->bert-score) (2024.2)\n",
      "Requirement already satisfied: tzdata>=2022.7 in /usr/local/lib/python3.10/dist-packages (from pandas>=1.0.1->bert-score) (2024.2)\n",
      "Requirement already satisfied: filelock in /usr/local/lib/python3.10/dist-packages (from torch>=1.0.0->bert-score) (3.16.1)\n",
      "Requirement already satisfied: typing-extensions>=4.8.0 in /usr/local/lib/python3.10/dist-packages (from torch>=1.0.0->bert-score) (4.12.2)\n",
      "Requirement already satisfied: networkx in /usr/local/lib/python3.10/dist-packages (from torch>=1.0.0->bert-score) (3.4.2)\n",
      "Requirement already satisfied: jinja2 in /usr/local/lib/python3.10/dist-packages (from torch>=1.0.0->bert-score) (3.1.4)\n",
      "Requirement already satisfied: fsspec in /usr/local/lib/python3.10/dist-packages (from torch>=1.0.0->bert-score) (2024.10.0)\n",
      "Requirement already satisfied: sympy==1.13.1 in /usr/local/lib/python3.10/dist-packages (from torch>=1.0.0->bert-score) (1.13.1)\n",
      "Requirement already satisfied: mpmath<1.4,>=1.1.0 in /usr/local/lib/python3.10/dist-packages (from sympy==1.13.1->torch>=1.0.0->bert-score) (1.3.0)\n",
      "Requirement already satisfied: huggingface-hub<1.0,>=0.23.2 in /usr/local/lib/python3.10/dist-packages (from transformers>=3.0.0->bert-score) (0.26.2)\n",
      "Requirement already satisfied: pyyaml>=5.1 in /usr/local/lib/python3.10/dist-packages (from transformers>=3.0.0->bert-score) (6.0.2)\n",
      "Requirement already satisfied: regex!=2019.12.17 in /usr/local/lib/python3.10/dist-packages (from transformers>=3.0.0->bert-score) (2024.9.11)\n",
      "Requirement already satisfied: safetensors>=0.4.1 in /usr/local/lib/python3.10/dist-packages (from transformers>=3.0.0->bert-score) (0.4.5)\n",
      "Requirement already satisfied: tokenizers<0.21,>=0.20 in /usr/local/lib/python3.10/dist-packages (from transformers>=3.0.0->bert-score) (0.20.3)\n",
      "Requirement already satisfied: contourpy>=1.0.1 in /usr/local/lib/python3.10/dist-packages (from matplotlib->bert-score) (1.3.1)\n",
      "Requirement already satisfied: cycler>=0.10 in /usr/local/lib/python3.10/dist-packages (from matplotlib->bert-score) (0.12.1)\n",
      "Requirement already satisfied: fonttools>=4.22.0 in /usr/local/lib/python3.10/dist-packages (from matplotlib->bert-score) (4.55.0)\n",
      "Requirement already satisfied: kiwisolver>=1.0.1 in /usr/local/lib/python3.10/dist-packages (from matplotlib->bert-score) (1.4.7)\n",
      "Requirement already satisfied: pillow>=6.2.0 in /usr/local/lib/python3.10/dist-packages (from matplotlib->bert-score) (11.0.0)\n",
      "Requirement already satisfied: pyparsing>=2.3.1 in /usr/local/lib/python3.10/dist-packages (from matplotlib->bert-score) (3.2.0)\n",
      "Requirement already satisfied: click in /usr/local/lib/python3.10/dist-packages (from nltk->rouge-score) (8.1.7)\n",
      "Requirement already satisfied: joblib in /usr/local/lib/python3.10/dist-packages (from nltk->rouge-score) (1.4.2)\n",
      "Requirement already satisfied: charset-normalizer<4,>=2 in /usr/local/lib/python3.10/dist-packages (from requests->bert-score) (3.4.0)\n",
      "Requirement already satisfied: idna<4,>=2.5 in /usr/local/lib/python3.10/dist-packages (from requests->bert-score) (3.10)\n",
      "Requirement already satisfied: urllib3<3,>=1.21.1 in /usr/local/lib/python3.10/dist-packages (from requests->bert-score) (2.2.3)\n",
      "Requirement already satisfied: certifi>=2017.4.17 in /usr/local/lib/python3.10/dist-packages (from requests->bert-score) (2024.8.30)\n",
      "Requirement already satisfied: MarkupSafe>=2.0 in /usr/local/lib/python3.10/dist-packages (from jinja2->torch>=1.0.0->bert-score) (3.0.2)\n",
      "Downloading bert_score-0.3.13-py3-none-any.whl (61 kB)\n",
      "\u001b[2K   \u001b[90m━━━━━━━━━━━━━━━━━━━━━━━━━━━━━━━━━━━━━━━━\u001b[0m \u001b[32m61.1/61.1 kB\u001b[0m \u001b[31m2.4 MB/s\u001b[0m eta \u001b[36m0:00:00\u001b[0m\n",
      "\u001b[?25hBuilding wheels for collected packages: rouge-score\n",
      "  Building wheel for rouge-score (setup.py) ... \u001b[?25l\u001b[?25hdone\n",
      "  Created wheel for rouge-score: filename=rouge_score-0.1.2-py3-none-any.whl size=24935 sha256=d6db774e0c1632cd59f6eef979a5df5046a26491e79f1c119b5b48f9331640c5\n",
      "  Stored in directory: /root/.cache/pip/wheels/5f/dd/89/461065a73be61a532ff8599a28e9beef17985c9e9c31e541b4\n",
      "Successfully built rouge-score\n",
      "Installing collected packages: rouge-score, bert-score\n",
      "Successfully installed bert-score-0.3.13 rouge-score-0.1.2\n",
      "Requirement already satisfied: nltk in /usr/local/lib/python3.10/dist-packages (3.9.1)\n",
      "Requirement already satisfied: click in /usr/local/lib/python3.10/dist-packages (from nltk) (8.1.7)\n",
      "Requirement already satisfied: joblib in /usr/local/lib/python3.10/dist-packages (from nltk) (1.4.2)\n",
      "Requirement already satisfied: regex>=2021.8.3 in /usr/local/lib/python3.10/dist-packages (from nltk) (2024.9.11)\n",
      "Requirement already satisfied: tqdm in /usr/local/lib/python3.10/dist-packages (from nltk) (4.66.6)\n",
      "Requirement already satisfied: sqlparse in /usr/local/lib/python3.10/dist-packages (0.5.2)\n"
     ]
    }
   ],
   "source": [
    "!pip install rouge-score bert-score\n",
    "!pip install nltk\n",
    "!pip install sqlparse"
   ]
  },
  {
   "cell_type": "code",
   "execution_count": null,
   "metadata": {
    "id": "dIZ8LehZ_at7"
   },
   "outputs": [],
   "source": [
    "import pandas as pd\n",
    "import os\n",
    "import sqlparse\n",
    "from sqlparse.sql import IdentifierList, Identifier\n",
    "from sqlparse.tokens import Keyword, DML\n",
    "import difflib\n",
    "# import ntlk\n",
    "from nltk.translate.bleu_score import sentence_bleu\n",
    "from rouge_score import rouge_scorer\n",
    "from bert_score import score as bert_score\n",
    "from nltk.util import ngrams\n",
    "from collections import Counter\n",
    "import json\n",
    "import warnings\n",
    "warnings.filterwarnings(\"ignore\")"
   ]
  },
  {
   "cell_type": "code",
   "execution_count": null,
   "metadata": {
    "colab": {
     "base_uri": "https://localhost:8080/"
    },
    "id": "XVcfBTon6E-t",
    "outputId": "65594535-a2ac-4efb-8c8f-bbf28c4918e7"
   },
   "outputs": [
    {
     "name": "stdout",
     "output_type": "stream",
     "text": [
      "Queries are semantically equivalent: False\n"
     ]
    }
   ],
   "source": [
    "def extract_query_components(query):\n",
    "    # Parse the SQL query\n",
    "    parsed = sqlparse.parse(query)[0]\n",
    "\n",
    "    # Initialize components\n",
    "    tables = []\n",
    "    columns = []\n",
    "    conditions = []\n",
    "\n",
    "    # Extract tokens\n",
    "    for token in parsed.tokens:\n",
    "        if token.ttype is DML and token.value.upper() == 'SELECT':\n",
    "            pass  # Handle SELECT clause\n",
    "        elif isinstance(token, IdentifierList):\n",
    "            for identifier in token.get_identifiers():\n",
    "                columns.append(identifier.get_real_name())\n",
    "        elif isinstance(token, Identifier):\n",
    "            tables.append(token.get_real_name())\n",
    "        elif token.ttype is Keyword and token.value.upper() in ('WHERE', 'ORDER BY', 'GROUP BY'):\n",
    "            conditions.append(token)\n",
    "\n",
    "    return {\n",
    "        'tables': set(tables),\n",
    "        'columns': set(columns),\n",
    "        'conditions': set(conditions)\n",
    "    }\n",
    "\n",
    "def sql_semantic_match(query1, query2):\n",
    "    # Normalize and extract components from both queries\n",
    "    components1 = extract_query_components(query1)\n",
    "    components2 = extract_query_components(query2)\n",
    "\n",
    "    # Compare tables, columns, and conditions\n",
    "    table_match = components1['tables'] == components2['tables']\n",
    "    column_match = components1['columns'] == components2['columns']\n",
    "    condition_match = components1['conditions'] == components2['conditions']\n",
    "\n",
    "    # If all components match, the queries are semantically similar\n",
    "    return table_match and column_match and condition_match\n",
    "\n",
    "# Example usage\n",
    "query1 = \"SELECT name FROM employees WHERE age > 30 ORDER BY name\"\n",
    "query2 = \"SELECT name FROM employees ORDER BY name WHERE age > 30\"\n",
    "\n",
    "print(\"Queries are semantically equivalent:\", sql_semantic_match(query1, query2))"
   ]
  },
  {
   "cell_type": "code",
   "execution_count": null,
   "metadata": {
    "id": "04LotMrx7Opp"
   },
   "outputs": [],
   "source": [
    "# Paths to each file\n",
    "\n",
    "base_dir = '/content/drive/MyDrive/RTS_Chetan_Chathurvedhi'\n",
    "sql_dir = base_dir + '/SQL'\n",
    "\n",
    "sql_path = {\n",
    "    \"Crime_Simple\":'/crime_simple.csv',\n",
    "    \"Crime_Complex\":'/crime_complex.csv',\n",
    "    \"Shooting_Simple\":'/shooting_simple.csv',\n",
    "    \"Shooting_Complex\":'/shooting_complex.csv',\n",
    "    \"Housing_Simple\":'/housing_simple.csv',\n",
    "    \"Housing_Complex\":'/housing_complex.csv',\n",
    "    \"Complete\":'/complete.csv',\n",
    "    \"Simple\":'/simple.csv',\n",
    "    \"Complex\":'/complex.csv'\n",
    "}\n",
    "\n",
    "models = [\"phi\", \"lfm\", \"gemma_1\", \"gemma_2\", \"llama\", \"mistral\"]\n"
   ]
  },
  {
   "cell_type": "markdown",
   "metadata": {
    "id": "amzdNro-BVhH"
   },
   "source": [
    "### Functions for similarity functions"
   ]
  },
  {
   "cell_type": "code",
   "execution_count": null,
   "metadata": {
    "id": "ZwMqILzm64kV"
   },
   "outputs": [],
   "source": [
    "# Levenshtein similarity using difflib\n",
    "def levenshtein_similarity(a, b):\n",
    "    return difflib.SequenceMatcher(None, str(a), str(b)).ratio()\n",
    "\n",
    "def tokenize_sql(query):\n",
    "    return sqlparse.format(query, keyword_case='upper').split()\n",
    "\n",
    "# Token-based similarity: Jaccard and Cosine\n",
    "def jaccard_similarity(query1, query2):\n",
    "    tokens1 = set(query1.split())\n",
    "    tokens2 = set(query2.split())\n",
    "    intersection = tokens1.intersection(tokens2)\n",
    "    union = tokens1.union(tokens2)\n",
    "    return len(intersection) / len(union)\n",
    "\n",
    "# Cosine_similarity\n",
    "def cosine_similarity(query1, query2):\n",
    "    tokens1 = Counter(query1.split())\n",
    "    tokens2 = Counter(query2.split())\n",
    "    all_tokens = set(tokens1.keys()).union(set(tokens2.keys()))\n",
    "    dot_product = sum(tokens1[token] * tokens2[token] for token in all_tokens)\n",
    "    norm1 = sum(value**2 for value in tokens1.values())**0.5\n",
    "    norm2 = sum(value**2 for value in tokens2.values())**0.5\n",
    "    return dot_product / (norm1 * norm2)\n",
    "\n",
    "# Word Error Rate (WER)\n",
    "def word_error_rate(reference, hypothesis):\n",
    "    ref_tokens = reference.split()\n",
    "    hyp_tokens = hypothesis.split()\n",
    "    return levenshtein_similarity(reference, hypothesis) / len(ref_tokens)\n",
    "\n",
    "# Evaluating the df with model\n",
    "def evaluate_sql(file_path, model):\n",
    "\n",
    "  df = pd.read_csv(file_path)\n",
    "\n",
    "  total_queries = len(df)\n",
    "  results = {\n",
    "      \"levenshtein_similarity\": [],\n",
    "      \"jaccard_similarity\": [],\n",
    "      \"cosine_similarity\": [],\n",
    "      \"word_error_rate\": [],\n",
    "      \"exact_match\": [],\n",
    "      \"clause_level_precision\": [],\n",
    "      \"clause_level_recall\": [],\n",
    "      \"clause_level_f1\": [],\n",
    "      \"bleu_score\": [],\n",
    "      \"rouge_1\": [],\n",
    "      \"rouge_2\": [],\n",
    "      \"rouge_l\": []\n",
    "  }\n",
    "\n",
    "  # Initialize ROUGE scorer\n",
    "  rouge_scorer_tool = rouge_scorer.RougeScorer(['rouge1', 'rouge2', 'rougeL'], use_stemmer=True)\n",
    "\n",
    "  for _, row in df.iterrows():\n",
    "    reference = row[\"SQL Query\"]\n",
    "    hypothesis = row[model]\n",
    "\n",
    "    reference_normalized = sqlparse.format(reference, reindent=True, keyword_case='upper')\n",
    "    hypothesis_normalized = sqlparse.format(hypothesis, reindent=True, keyword_case='upper')\n",
    "\n",
    "    # Levenshtein Similarity (1 - normalized distance)\n",
    "    results[\"levenshtein_similarity\"].append(levenshtein_similarity(reference, hypothesis))\n",
    "\n",
    "    # Jaccard Similarity\n",
    "    jaccard_sim = jaccard_similarity(reference, hypothesis)\n",
    "    results[\"jaccard_similarity\"].append(jaccard_sim)\n",
    "\n",
    "    # Cosine Similarity\n",
    "    cosine_sim = cosine_similarity(reference, hypothesis)\n",
    "    results[\"cosine_similarity\"].append(cosine_sim)\n",
    "\n",
    "    # Word Error Rate\n",
    "    wer = word_error_rate(reference, hypothesis)\n",
    "    results[\"word_error_rate\"].append(wer)\n",
    "\n",
    "    # Exact Match\n",
    "    exact_match = 1 if reference.strip() == hypothesis.strip() else 0\n",
    "    results[\"exact_match\"].append(exact_match)\n",
    "\n",
    "    # Clause-level Comparison (Token-based)\n",
    "    exact_tokens = set(reference_normalized.split())\n",
    "    generated_tokens = set(hypothesis_normalized.split())\n",
    "\n",
    "    # Calculate Precision, Recall, F1\n",
    "    intersection = exact_tokens & generated_tokens\n",
    "    precision = len(intersection) / len(generated_tokens) if generated_tokens else 0\n",
    "    recall = len(intersection) / len(exact_tokens) if exact_tokens else 0\n",
    "    f1_score = (2 * precision * recall) / (precision + recall) if precision + recall > 0 else 0\n",
    "\n",
    "    results[\"clause_level_precision\"].append(precision)\n",
    "    results[\"clause_level_recall\"].append(recall)\n",
    "    results[\"clause_level_f1\"].append(f1_score)\n",
    "\n",
    "    # Tokenize queries\n",
    "    reference_tokens = tokenize_sql(reference)\n",
    "    hypothesis_tokens = tokenize_sql(hypothesis)\n",
    "\n",
    "    # BLEU Score\n",
    "    results[\"bleu_score\"].append(sentence_bleu([reference_tokens], hypothesis_tokens))\n",
    "\n",
    "    # ROUGE Scores\n",
    "    rouge_result = rouge_scorer_tool.score(reference, hypothesis)\n",
    "    results[\"rouge_1\"].append(rouge_result[\"rouge1\"].fmeasure)\n",
    "    results[\"rouge_2\"].append(rouge_result[\"rouge2\"].fmeasure)\n",
    "    results[\"rouge_l\"].append(rouge_result[\"rougeL\"].fmeasure)\n",
    "\n",
    "  # Return average metrics\n",
    "  Metrics = {}\n",
    "  for metric, values in results.items():\n",
    "    Metrics[metric] = round(sum(values) / total_queries, 3)\n",
    "  return Metrics\n",
    "\n",
    "metric_path = base_dir + '/Metrics/metrics.json'\n"
   ]
  },
  {
   "cell_type": "code",
   "execution_count": null,
   "metadata": {
    "colab": {
     "base_uri": "https://localhost:8080/"
    },
    "id": "h7f2xEHDdw95",
    "outputId": "c9749bbb-02e0-4ea3-8c77-126d89913fd5"
   },
   "outputs": [
    {
     "name": "stdout",
     "output_type": "stream",
     "text": [
      "Working on Crime_Simple\n",
      "phi lfm gemma_1 gemma_2 llama mistral Done\n",
      "Working on Crime_Complex\n",
      "phi lfm gemma_1 gemma_2 llama mistral Done\n",
      "Working on Shooting_Simple\n",
      "phi lfm gemma_1 gemma_2 llama mistral Done\n",
      "Working on Shooting_Complex\n",
      "phi lfm gemma_1 gemma_2 llama mistral Done\n",
      "Working on Housing_Simple\n",
      "phi lfm gemma_1 gemma_2 llama mistral Done\n",
      "Working on Housing_Complex\n",
      "phi lfm gemma_1 gemma_2 llama mistral Done\n",
      "Working on Complete\n",
      "phi lfm gemma_1 gemma_2 llama mistral Done\n",
      "Working on Simple\n",
      "phi lfm gemma_1 gemma_2 llama mistral Done\n",
      "Working on Complex\n",
      "phi lfm gemma_1 gemma_2 llama mistral Done\n"
     ]
    }
   ],
   "source": [
    "Metric_Results = {}\n",
    "\n",
    "for key, value in sql_path.items():\n",
    "  print(\"Working on \" + key)\n",
    "  file_results = {}\n",
    "  for model in models:\n",
    "    path = sql_dir + value\n",
    "    file_results[model] = evaluate_sql(path, model)\n",
    "    print(model, end = \" \")\n",
    "  Metric_Results[key] = file_results\n",
    "  print(\"Done\")"
   ]
  },
  {
   "cell_type": "code",
   "execution_count": null,
   "metadata": {
    "id": "B7u6F4CDelmk"
   },
   "outputs": [],
   "source": [
    "# Save to a JSON file\n",
    "with open(metric_path, \"w\") as file:\n",
    "    json.dump(Metric_Results, file)"
   ]
  },
  {
   "cell_type": "code",
   "execution_count": null,
   "metadata": {
    "id": "xGVL0lWRe8d5"
   },
   "outputs": [],
   "source": [
    "# Pulling from JSON file\n",
    "with open(metric_path, \"r\") as file:\n",
    "    Metric_Results = json.load(file)"
   ]
  },
  {
   "cell_type": "markdown",
   "metadata": {
    "id": "UtpqV6YNjEP8"
   },
   "source": [
    "### Analysis on individual datasets"
   ]
  },
  {
   "cell_type": "code",
   "execution_count": null,
   "metadata": {
    "colab": {
     "base_uri": "https://localhost:8080/"
    },
    "id": "X1dkQN5sjIet",
    "outputId": "e1c9e9b5-a396-4167-ac89-1de0fb437922"
   },
   "outputs": [
    {
     "name": "stdout",
     "output_type": "stream",
     "text": [
      "Working on Crime_Simple\n",
      "Done\n",
      "Working on Crime_Complex\n",
      "Done\n",
      "Working on Shooting_Simple\n",
      "Done\n",
      "Working on Shooting_Complex\n",
      "Done\n",
      "Working on Housing_Simple\n",
      "Done\n",
      "Working on Housing_Complex\n",
      "Done\n",
      "Working on Simple\n",
      "Done\n",
      "Working on Complete\n",
      "Done\n",
      "Working on Complex\n",
      "Done\n"
     ]
    }
   ],
   "source": [
    "datasets = [\"Crime_Simple\", \"Crime_Complex\", \"Shooting_Simple\", \"Shooting_Complex\", \"Housing_Simple\", \"Housing_Complex\", \"Simple\", \"Complete\", \"Complex\"]\n",
    "\n",
    "metric_df_dir = base_dir + '/Metrics'\n",
    "\n",
    "for dataset in datasets:\n",
    "  print(\"Working on \" + dataset)\n",
    "  df = pd.DataFrame(Metric_Results[dataset]).transpose()\n",
    "  df.to_csv(metric_df_dir + '/' + dataset + '_metrics.csv')\n",
    "  print(\"Done\")"
   ]
  },
  {
   "cell_type": "markdown",
   "metadata": {
    "id": "tx_oVsY6djMN"
   },
   "source": [
    "# Reference and Old Code"
   ]
  },
  {
   "cell_type": "code",
   "execution_count": null,
   "metadata": {
    "id": "X-tohUMKdmpu"
   },
   "outputs": [],
   "source": [
    "def evaluate_sql_from_csv(file_path, model):\n",
    "    # Read CSV file\n",
    "    df = pd.read_csv(file_path)\n",
    "\n",
    "    # Initialize metrics\n",
    "    metrics = {\n",
    "        \"exact_match\": 0,\n",
    "        \"avg_levenshtein_similarity\": 0,\n",
    "        \"clause_level_precision\": [],\n",
    "        \"clause_level_recall\": [],\n",
    "        \"clause_level_f1\": []\n",
    "    }\n",
    "\n",
    "    # Total queries\n",
    "    total_queries = len(df)\n",
    "    levenshtein_scores = []\n",
    "\n",
    "    for _, row in df.iterrows():\n",
    "        exact_query = row[\"SQL Query\"]\n",
    "        generated_query = row[model]\n",
    "\n",
    "        # Normalize queries\n",
    "        exact_normalized = sqlparse.format(exact_query, reindent=True, keyword_case='upper')\n",
    "        generated_normalized = sqlparse.format(generated_query, reindent=True, keyword_case='upper')\n",
    "\n",
    "        # Exact Match\n",
    "        if exact_normalized.strip() == generated_normalized.strip():\n",
    "            metrics[\"exact_match\"] += 1\n",
    "\n",
    "        # Levenshtein Similarity\n",
    "        levenshtein_scores.append(levenshtein_similarity(exact_normalized, generated_normalized))\n",
    "\n",
    "        # Clause-level Comparison (Token-based)\n",
    "        exact_tokens = set(exact_normalized.split())\n",
    "        generated_tokens = set(generated_normalized.split())\n",
    "\n",
    "        # Calculate Precision, Recall, F1\n",
    "        intersection = exact_tokens & generated_tokens\n",
    "        precision = len(intersection) / len(generated_tokens) if generated_tokens else 0\n",
    "        recall = len(intersection) / len(exact_tokens) if exact_tokens else 0\n",
    "        f1_score = (2 * precision * recall) / (precision + recall) if precision + recall > 0 else 0\n",
    "\n",
    "        metrics[\"clause_level_precision\"].append(precision)\n",
    "        metrics[\"clause_level_recall\"].append(recall)\n",
    "        metrics[\"clause_level_f1\"].append(f1_score)\n",
    "\n",
    "    # Finalize Metrics\n",
    "    metrics[\"exact_match\"] /= total_queries\n",
    "    metrics[\"avg_levenshtein_similarity\"] = sum(levenshtein_scores) / total_queries\n",
    "    metrics[\"avg_precision\"] = sum(metrics[\"clause_level_precision\"]) / total_queries\n",
    "    metrics[\"avg_recall\"] = sum(metrics[\"clause_level_recall\"]) / total_queries\n",
    "    metrics[\"avg_f1\"] = sum(metrics[\"clause_level_f1\"]) / total_queries\n",
    "\n",
    "    return metrics\n",
    "\n",
    "# Metric Calculations\n",
    "def evaluate_sql_with_metrics(file_path, model):\n",
    "    # Load CSV\n",
    "    df = pd.read_csv(file_path)\n",
    "\n",
    "    # Initialize metrics\n",
    "    bleu_scores = []\n",
    "    rouge_scores = {\"rouge-1\": [], \"rouge-2\": [], \"rouge-l\": []}\n",
    "\n",
    "    # Initialize ROUGE scorer\n",
    "    rouge_scorer_tool = rouge_scorer.RougeScorer(['rouge1', 'rouge2', 'rougeL'], use_stemmer=True)\n",
    "\n",
    "    for _, row in df.iterrows():\n",
    "        reference = row[\"SQL Query\"]\n",
    "        hypothesis = row[model]\n",
    "\n",
    "        # Tokenize queries\n",
    "        reference_tokens = tokenize_sql(reference)\n",
    "        hypothesis_tokens = tokenize_sql(hypothesis)\n",
    "\n",
    "        # BLEU Score\n",
    "        bleu_scores.append(sentence_bleu([reference_tokens], hypothesis_tokens))\n",
    "\n",
    "        # ROUGE Scores\n",
    "        rouge_result = rouge_scorer_tool.score(reference, hypothesis)\n",
    "        rouge_scores[\"rouge-1\"].append(rouge_result[\"rouge1\"].fmeasure)\n",
    "        rouge_scores[\"rouge-2\"].append(rouge_result[\"rouge2\"].fmeasure)\n",
    "        rouge_scores[\"rouge-l\"].append(rouge_result[\"rougeL\"].fmeasure)\n",
    "\n",
    "    # Aggregate results\n",
    "    results = {\n",
    "        \"avg_bleu\": sum(bleu_scores) / len(bleu_scores),\n",
    "        \"avg_rouge-1\": sum(rouge_scores[\"rouge-1\"]) / len(rouge_scores[\"rouge-1\"]),\n",
    "        \"avg_rouge-2\": sum(rouge_scores[\"rouge-2\"]) / len(rouge_scores[\"rouge-2\"]),\n",
    "        \"avg_rouge-l\": sum(rouge_scores[\"rouge-l\"]) / len(rouge_scores[\"rouge-l\"]),\n",
    "    }\n",
    "\n",
    "    return results\n",
    "\n",
    "\n",
    "# Evaluation Function\n",
    "def evaluate_simple_metrics(file_path):\n",
    "    df = pd.read_csv(file_path)\n",
    "\n",
    "    results = {\n",
    "        \"levenshtein_similarity\": [],\n",
    "        \"jaccard_similarity\": [],\n",
    "        \"cosine_similarity\": [],\n",
    "        \"word_error_rate\": [],\n",
    "        \"exact_match\": [],\n",
    "    }\n",
    "\n",
    "    for _, row in df.iterrows():\n",
    "        reference = row[\"SQL Query\"]\n",
    "        hypothesis = row[\"gpt_sql\"]\n",
    "\n",
    "        # Levenshtein Similarity (1 - normalized distance)\n",
    "        levenshtein_sim = 1 - levenshtein_similarity(reference, hypothesis) / max(len(reference), len(hypothesis))\n",
    "        results[\"levenshtein_similarity\"].append(levenshtein_sim)\n",
    "\n",
    "        # Jaccard Similarity\n",
    "        jaccard_sim = jaccard_similarity(reference, hypothesis)\n",
    "        results[\"jaccard_similarity\"].append(jaccard_sim)\n",
    "\n",
    "        # Cosine Similarity\n",
    "        cosine_sim = cosine_similarity(reference, hypothesis)\n",
    "        results[\"cosine_similarity\"].append(cosine_sim)\n",
    "\n",
    "        # Word Error Rate\n",
    "        wer = word_error_rate(reference, hypothesis)\n",
    "        results[\"word_error_rate\"].append(wer)\n",
    "\n",
    "        # Exact Match\n",
    "        exact_match = 1 if reference.strip() == hypothesis.strip() else 0\n",
    "        results[\"exact_match\"].append(exact_match)\n",
    "\n",
    "    # Average Metrics\n",
    "    avg_results = {metric: sum(values) / len(values) for metric, values in results.items()}\n",
    "    return avg_results\n"
   ]
  },
  {
   "cell_type": "markdown",
   "metadata": {
    "id": "5wiCvraOeurk"
   },
   "source": [
    "# Presentation Plots"
   ]
  },
  {
   "cell_type": "code",
   "execution_count": null,
   "metadata": {
    "id": "U2PS29cHet9i"
   },
   "outputs": [],
   "source": [
    "# Latency vs Metrics for LFM vs Gemma_1\n",
    "\n",
    "import matplotlib.pyplot as plt\n",
    "import pandas as pd\n",
    "import numpy as np\n",
    "\n",
    "base_dir = '/content/drive/MyDrive/RTS_Chetan_Chathurvedhi'\n",
    "\n",
    "df = pd.read_csv(base_dir + '/SQL/latency_comp.csv')"
   ]
  },
  {
   "cell_type": "code",
   "execution_count": null,
   "metadata": {
    "colab": {
     "base_uri": "https://localhost:8080/",
     "height": 607
    },
    "id": "GsdzzHosglKF",
    "outputId": "80b6be59-ae62-4bfc-ecb9-2e0e78bde3b2"
   },
   "outputs": [
    {
     "data": {
      "image/png": "[encoded data removed]",
      "text/plain": [
       "<Figure size 1000x600 with 2 Axes>"
      ]
     },
     "metadata": {},
     "output_type": "display_data"
    }
   ],
   "source": [
    "simple_count = 88\n",
    "complex_count = 40\n",
    "\n",
    "# gemma_simple_lat = 182.85\n",
    "# gemma_complex_lat = 110.90\n",
    "\n",
    "# lfm_simple_lat = 443.54\n",
    "# lfm_complex_lat = 252.81\n",
    "\n",
    "# gemma_simple_bleu = 0.016\n",
    "# lfm_simple_bleu = 0.026\n",
    "\n",
    "# gemma_complex_bleu = 0.006\n",
    "# lfm_complex_bleu = 0.007\n",
    "\n",
    "# lfm_complete_lat = lfm_complex_lat + lfm_simple_lat\n",
    "# gemma_complete_lat = gemma_complex_lat + gemma_simple_lat\n",
    "\n",
    "# lfm_complete_bleu = 0.02\n",
    "# gemma_complete_bleu = 0.012\n",
    "\n",
    "# Data\n",
    "categories = ['Simple', 'Complex', 'Complete']\n",
    "latencies_lfm = [443.54/88, 252.81/40, (443.54 + 252.81)/128]\n",
    "latencies_gemma = [182.85/88, 110.90/40, (182.85 + 110.90)/128]\n",
    "bleu_scores_lfm = [0.026, 0.007, 0.02]\n",
    "bleu_scores_gemma = [0.016, 0.006, 0.012]\n",
    "\n",
    "# Scaling the latencies by count\n",
    "\n",
    "\n",
    "x = np.arange(len(categories))  # label locations\n",
    "width = 0.35  # width of the bars\n",
    "\n",
    "# Plotting\n",
    "fig, ax1 = plt.subplots(figsize=(10, 6))\n",
    "\n",
    "# Latency bars\n",
    "bar1 = ax1.bar(x - width/2, latencies_lfm, width, label='LFM Latency', color='skyblue')\n",
    "bar2 = ax1.bar(x + width/2, latencies_gemma, width, label='GEMMA Latency', color='salmon')\n",
    "\n",
    "# Set up the primary y-axis for latency\n",
    "ax1.set_xlabel('Categories')\n",
    "ax1.set_ylabel('Latency (ms)', color='black')\n",
    "ax1.set_title('Latency vs Performance for LFM and GEMMA')\n",
    "ax1.set_xticks(x)\n",
    "ax1.set_xticklabels(categories)\n",
    "ax1.legend(loc='upper left')\n",
    "\n",
    "# BLEU scores\n",
    "ax2 = ax1.twinx()  # Secondary y-axis for BLEU scores\n",
    "ax2.plot(x, bleu_scores_lfm, marker='o', label='LFM BLEU', color='blue')\n",
    "ax2.plot(x, bleu_scores_gemma, marker='s', label='GEMMA BLEU', color='red')\n",
    "ax2.set_ylabel('BLEU Score', color='black')\n",
    "\n",
    "# Combine legends from both axes\n",
    "fig.legend(loc='upper right', bbox_to_anchor=(1, 1), bbox_transform=ax1.transAxes)\n",
    "\n",
    "# Display the plot\n",
    "plt.tight_layout()\n",
    "plt.show()\n"
   ]
  },
  {
   "cell_type": "code",
   "execution_count": null,
   "metadata": {
    "colab": {
     "base_uri": "https://localhost:8080/",
     "height": 607
    },
    "id": "VI0cJK1Aijxl",
    "outputId": "a4904ec2-dc3b-42b7-8dab-b67873cbac6e"
   },
   "outputs": [
    {
     "data": {
      "image/png": "[encoded data removed]",
      "text/plain": [
       "<Figure size 800x600 with 1 Axes>"
      ]
     },
     "metadata": {},
     "output_type": "display_data"
    }
   ],
   "source": [
    "\n",
    "# Scale BLEU scores to milli-BLEU\n",
    "bleu_scores_lfm_scaled = [score * 100 for score in bleu_scores_lfm]\n",
    "bleu_scores_gemma_scaled = [score * 100 for score in bleu_scores_gemma]\n",
    "\n",
    "# Scatter plot\n",
    "plt.figure(figsize=(8, 6))\n",
    "\n",
    "# LFM\n",
    "plt.scatter(latencies_lfm, bleu_scores_lfm_scaled, color='blue', label='LFM')\n",
    "for i, category in enumerate(categories):\n",
    "    plt.text(latencies_lfm[i], bleu_scores_lfm_scaled[i], category, color='blue', fontsize=9)\n",
    "\n",
    "# GEMMA\n",
    "plt.scatter(latencies_gemma, bleu_scores_gemma_scaled, color='red', label='GEMMA')\n",
    "for i, category in enumerate(categories):\n",
    "    plt.text(latencies_gemma[i], bleu_scores_gemma_scaled[i], category, color='red', fontsize=9)\n",
    "\n",
    "# Labels and title\n",
    "plt.xlabel('Latency (ms)')\n",
    "plt.ylabel('BLEU Score (x 100)')\n",
    "plt.title('Latency vs BLEU Score (Scaled) for LFM and GEMMA')\n",
    "plt.legend()\n",
    "plt.grid(True)\n",
    "\n",
    "# Show plot\n",
    "plt.tight_layout()\n",
    "plt.show()"
   ]
  },
  {
   "cell_type": "code",
   "execution_count": null,
   "metadata": {
    "colab": {
     "base_uri": "https://localhost:8080/",
     "height": 607
    },
    "id": "1VQkIGpsi7CS",
    "outputId": "58f6dede-9d57-4632-b332-7b27273b1864"
   },
   "outputs": [
    {
     "data": {
      "image/png": "[encoded data removed]",
      "text/plain": [
       "<Figure size 800x600 with 1 Axes>"
      ]
     },
     "metadata": {},
     "output_type": "display_data"
    }
   ],
   "source": [
    "\n",
    "# Scale BLEU scores to centi-BLEU\n",
    "bleu_scores_lfm_scaled = [score * 100 for score in bleu_scores_lfm]\n",
    "bleu_scores_gemma_scaled = [score * 100 for score in bleu_scores_gemma]\n",
    "\n",
    "# Scatter plot\n",
    "plt.figure(figsize=(8, 6))\n",
    "\n",
    "# Scatter points\n",
    "plt.scatter(latencies_lfm, bleu_scores_lfm_scaled, color='blue', label='LFM')\n",
    "plt.scatter(latencies_gemma, bleu_scores_gemma_scaled, color='red', label='GEMMA')\n",
    "\n",
    "# Add lines connecting points of the same category\n",
    "for i, category in enumerate(categories):\n",
    "    plt.plot(\n",
    "        [latencies_lfm[i], latencies_gemma[i]],\n",
    "        [bleu_scores_lfm_scaled[i], bleu_scores_gemma_scaled[i]],\n",
    "        color='gray', linestyle='--', linewidth=1\n",
    "    )\n",
    "    plt.text((latencies_lfm[i] + latencies_gemma[i]) / 2,\n",
    "             (bleu_scores_lfm_scaled[i] + bleu_scores_gemma_scaled[i]) / 2,\n",
    "             category, fontsize=9, ha='center', va='center')\n",
    "\n",
    "# Labels and title\n",
    "plt.xlabel('Latency (ms)')\n",
    "plt.ylabel('BLEU Score (x 100)')\n",
    "plt.title('Latency vs BLEU Score (Scaled) for LFM and GEMMA')\n",
    "plt.legend()\n",
    "plt.grid(True)\n",
    "\n",
    "# Show plot\n",
    "plt.tight_layout()\n",
    "plt.show()"
   ]
  },
  {
   "cell_type": "code",
   "execution_count": null,
   "metadata": {
    "colab": {
     "base_uri": "https://localhost:8080/"
    },
    "id": "CwhRJR9Aobv5",
    "outputId": "1ceb9ad3-739e-4bcd-e498-dbf81cfdce59"
   },
   "outputs": [
    {
     "name": "stdout",
     "output_type": "stream",
     "text": [
      "{'phi': {'levenshtein_similarity': 0.112, 'jaccard_similarity': 0.076, 'cosine_similarity': 0.07, 'word_error_rate': 0.004, 'exact_match': 0.0, 'clause_level_precision': 0.105, 'clause_level_recall': 0.433, 'clause_level_f1': 0.165, 'bleu_score': 0.008, 'rouge_1': 0.319, 'rouge_2': 0.176, 'rouge_l': 0.259}, 'lfm': {'levenshtein_similarity': 0.217, 'jaccard_similarity': 0.165, 'cosine_similarity': 0.129, 'word_error_rate': 0.009, 'exact_match': 0.0, 'clause_level_precision': 0.368, 'clause_level_recall': 0.4, 'clause_level_f1': 0.362, 'bleu_score': 0.026, 'rouge_1': 0.518, 'rouge_2': 0.305, 'rouge_l': 0.462}, 'gemma_1': {'levenshtein_similarity': 0.251, 'jaccard_similarity': 0.166, 'cosine_similarity': 0.122, 'word_error_rate': 0.011, 'exact_match': 0.0, 'clause_level_precision': 0.336, 'clause_level_recall': 0.393, 'clause_level_f1': 0.349, 'bleu_score': 0.016, 'rouge_1': 0.515, 'rouge_2': 0.291, 'rouge_l': 0.46}, 'gemma_2': {'levenshtein_similarity': 0.097, 'jaccard_similarity': 0.067, 'cosine_similarity': 0.076, 'word_error_rate': 0.003, 'exact_match': 0.0, 'clause_level_precision': 0.089, 'clause_level_recall': 0.439, 'clause_level_f1': 0.146, 'bleu_score': 0.006, 'rouge_1': 0.296, 'rouge_2': 0.156, 'rouge_l': 0.244}, 'llama': {'levenshtein_similarity': 0.12, 'jaccard_similarity': 0.02, 'cosine_similarity': 0.021, 'word_error_rate': 0.005, 'exact_match': 0.0, 'clause_level_precision': 0.036, 'clause_level_recall': 0.087, 'clause_level_f1': 0.047, 'bleu_score': 0.001, 'rouge_1': 0.147, 'rouge_2': 0.054, 'rouge_l': 0.123}, 'mistral': {'levenshtein_similarity': 0.102, 'jaccard_similarity': 0.07, 'cosine_similarity': 0.057, 'word_error_rate': 0.004, 'exact_match': 0.0, 'clause_level_precision': 0.095, 'clause_level_recall': 0.421, 'clause_level_f1': 0.152, 'bleu_score': 0.004, 'rouge_1': 0.304, 'rouge_2': 0.164, 'rouge_l': 0.244}}\n"
     ]
    }
   ],
   "source": [
    "import json\n",
    "\n",
    "metrics_loc = base_dir + '/Metrics/metrics.json'\n",
    "Metric_Results = {}\n",
    "\n",
    "with open(metrics_loc, \"r\") as file:\n",
    "  Metric_Results = json.load(file)\n",
    "\n",
    "Simple_Metrics = Metric_Results[\"Simple\"]\n",
    "Complex_Metrics = Metric_Results[\"Complex\"]\n",
    "Complete_Metrics = Metric_Results[\"Complete\"]\n",
    "\n",
    "simple_df = pd.DataFrame(Simple_Metrics).transpose()\n",
    "complex_df = pd.DataFrame(Complex_Metrics).transpose()\n",
    "complete_df = pd.DataFrame(Complete_Metrics).transpose()\n",
    "\n"
   ]
  },
  {
   "cell_type": "code",
   "execution_count": null,
   "metadata": {
    "id": "LxOO9RqZrjwI"
   },
   "outputs": [],
   "source": []
  }
 ],
 "metadata": {
  "colab": {
   "provenance": []
  },
  "kernelspec": {
   "display_name": "Python 3",
   "name": "python3"
  },
  "language_info": {
   "name": "python"
  }
 },
 "nbformat": 4,
 "nbformat_minor": 0
}
